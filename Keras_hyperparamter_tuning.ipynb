{
  "nbformat": 4,
  "nbformat_minor": 0,
  "metadata": {
    "colab": {
      "provenance": [],
      "authorship_tag": "ABX9TyM5ySndULGsr9kzzcni3YSi",
      "include_colab_link": true
    },
    "kernelspec": {
      "name": "python3",
      "display_name": "Python 3"
    },
    "language_info": {
      "name": "python"
    }
  },
  "cells": [
    {
      "cell_type": "markdown",
      "metadata": {
        "id": "view-in-github",
        "colab_type": "text"
      },
      "source": [
        "<a href=\"https://colab.research.google.com/github/Yash-Jaiswal28/Deep-Learning/blob/main/Keras_hyperparamter_tuning.ipynb\" target=\"_parent\"><img src=\"https://colab.research.google.com/assets/colab-badge.svg\" alt=\"Open In Colab\"/></a>"
      ]
    },
    {
      "cell_type": "code",
      "execution_count": 54,
      "metadata": {
        "id": "2sx81XQGWpR_"
      },
      "outputs": [],
      "source": [
        "import numpy as np\n",
        "import pandas as pd\n",
        "import matplotlib.pyplot as plt"
      ]
    },
    {
      "cell_type": "code",
      "source": [
        "df=pd.read_csv('/content/diabetes.csv')\n",
        "df.head()"
      ],
      "metadata": {
        "colab": {
          "base_uri": "https://localhost:8080/",
          "height": 206
        },
        "id": "TkKc2oW5XOlV",
        "outputId": "65bd014e-35c4-4f60-ad8e-d1281a3fb92e"
      },
      "execution_count": 55,
      "outputs": [
        {
          "output_type": "execute_result",
          "data": {
            "text/plain": [
              "   Pregnancies  Glucose  BloodPressure  SkinThickness  Insulin   BMI  \\\n",
              "0            6      148             72             35        0  33.6   \n",
              "1            1       85             66             29        0  26.6   \n",
              "2            8      183             64              0        0  23.3   \n",
              "3            1       89             66             23       94  28.1   \n",
              "4            0      137             40             35      168  43.1   \n",
              "\n",
              "   DiabetesPedigreeFunction  Age  Outcome  \n",
              "0                     0.627   50        1  \n",
              "1                     0.351   31        0  \n",
              "2                     0.672   32        1  \n",
              "3                     0.167   21        0  \n",
              "4                     2.288   33        1  "
            ],
            "text/html": [
              "\n",
              "  <div id=\"df-1d6d7e1a-e56b-4905-a9d3-e9b30d86af2c\" class=\"colab-df-container\">\n",
              "    <div>\n",
              "<style scoped>\n",
              "    .dataframe tbody tr th:only-of-type {\n",
              "        vertical-align: middle;\n",
              "    }\n",
              "\n",
              "    .dataframe tbody tr th {\n",
              "        vertical-align: top;\n",
              "    }\n",
              "\n",
              "    .dataframe thead th {\n",
              "        text-align: right;\n",
              "    }\n",
              "</style>\n",
              "<table border=\"1\" class=\"dataframe\">\n",
              "  <thead>\n",
              "    <tr style=\"text-align: right;\">\n",
              "      <th></th>\n",
              "      <th>Pregnancies</th>\n",
              "      <th>Glucose</th>\n",
              "      <th>BloodPressure</th>\n",
              "      <th>SkinThickness</th>\n",
              "      <th>Insulin</th>\n",
              "      <th>BMI</th>\n",
              "      <th>DiabetesPedigreeFunction</th>\n",
              "      <th>Age</th>\n",
              "      <th>Outcome</th>\n",
              "    </tr>\n",
              "  </thead>\n",
              "  <tbody>\n",
              "    <tr>\n",
              "      <th>0</th>\n",
              "      <td>6</td>\n",
              "      <td>148</td>\n",
              "      <td>72</td>\n",
              "      <td>35</td>\n",
              "      <td>0</td>\n",
              "      <td>33.6</td>\n",
              "      <td>0.627</td>\n",
              "      <td>50</td>\n",
              "      <td>1</td>\n",
              "    </tr>\n",
              "    <tr>\n",
              "      <th>1</th>\n",
              "      <td>1</td>\n",
              "      <td>85</td>\n",
              "      <td>66</td>\n",
              "      <td>29</td>\n",
              "      <td>0</td>\n",
              "      <td>26.6</td>\n",
              "      <td>0.351</td>\n",
              "      <td>31</td>\n",
              "      <td>0</td>\n",
              "    </tr>\n",
              "    <tr>\n",
              "      <th>2</th>\n",
              "      <td>8</td>\n",
              "      <td>183</td>\n",
              "      <td>64</td>\n",
              "      <td>0</td>\n",
              "      <td>0</td>\n",
              "      <td>23.3</td>\n",
              "      <td>0.672</td>\n",
              "      <td>32</td>\n",
              "      <td>1</td>\n",
              "    </tr>\n",
              "    <tr>\n",
              "      <th>3</th>\n",
              "      <td>1</td>\n",
              "      <td>89</td>\n",
              "      <td>66</td>\n",
              "      <td>23</td>\n",
              "      <td>94</td>\n",
              "      <td>28.1</td>\n",
              "      <td>0.167</td>\n",
              "      <td>21</td>\n",
              "      <td>0</td>\n",
              "    </tr>\n",
              "    <tr>\n",
              "      <th>4</th>\n",
              "      <td>0</td>\n",
              "      <td>137</td>\n",
              "      <td>40</td>\n",
              "      <td>35</td>\n",
              "      <td>168</td>\n",
              "      <td>43.1</td>\n",
              "      <td>2.288</td>\n",
              "      <td>33</td>\n",
              "      <td>1</td>\n",
              "    </tr>\n",
              "  </tbody>\n",
              "</table>\n",
              "</div>\n",
              "    <div class=\"colab-df-buttons\">\n",
              "\n",
              "  <div class=\"colab-df-container\">\n",
              "    <button class=\"colab-df-convert\" onclick=\"convertToInteractive('df-1d6d7e1a-e56b-4905-a9d3-e9b30d86af2c')\"\n",
              "            title=\"Convert this dataframe to an interactive table.\"\n",
              "            style=\"display:none;\">\n",
              "\n",
              "  <svg xmlns=\"http://www.w3.org/2000/svg\" height=\"24px\" viewBox=\"0 -960 960 960\">\n",
              "    <path d=\"M120-120v-720h720v720H120Zm60-500h600v-160H180v160Zm220 220h160v-160H400v160Zm0 220h160v-160H400v160ZM180-400h160v-160H180v160Zm440 0h160v-160H620v160ZM180-180h160v-160H180v160Zm440 0h160v-160H620v160Z\"/>\n",
              "  </svg>\n",
              "    </button>\n",
              "\n",
              "  <style>\n",
              "    .colab-df-container {\n",
              "      display:flex;\n",
              "      gap: 12px;\n",
              "    }\n",
              "\n",
              "    .colab-df-convert {\n",
              "      background-color: #E8F0FE;\n",
              "      border: none;\n",
              "      border-radius: 50%;\n",
              "      cursor: pointer;\n",
              "      display: none;\n",
              "      fill: #1967D2;\n",
              "      height: 32px;\n",
              "      padding: 0 0 0 0;\n",
              "      width: 32px;\n",
              "    }\n",
              "\n",
              "    .colab-df-convert:hover {\n",
              "      background-color: #E2EBFA;\n",
              "      box-shadow: 0px 1px 2px rgba(60, 64, 67, 0.3), 0px 1px 3px 1px rgba(60, 64, 67, 0.15);\n",
              "      fill: #174EA6;\n",
              "    }\n",
              "\n",
              "    .colab-df-buttons div {\n",
              "      margin-bottom: 4px;\n",
              "    }\n",
              "\n",
              "    [theme=dark] .colab-df-convert {\n",
              "      background-color: #3B4455;\n",
              "      fill: #D2E3FC;\n",
              "    }\n",
              "\n",
              "    [theme=dark] .colab-df-convert:hover {\n",
              "      background-color: #434B5C;\n",
              "      box-shadow: 0px 1px 3px 1px rgba(0, 0, 0, 0.15);\n",
              "      filter: drop-shadow(0px 1px 2px rgba(0, 0, 0, 0.3));\n",
              "      fill: #FFFFFF;\n",
              "    }\n",
              "  </style>\n",
              "\n",
              "    <script>\n",
              "      const buttonEl =\n",
              "        document.querySelector('#df-1d6d7e1a-e56b-4905-a9d3-e9b30d86af2c button.colab-df-convert');\n",
              "      buttonEl.style.display =\n",
              "        google.colab.kernel.accessAllowed ? 'block' : 'none';\n",
              "\n",
              "      async function convertToInteractive(key) {\n",
              "        const element = document.querySelector('#df-1d6d7e1a-e56b-4905-a9d3-e9b30d86af2c');\n",
              "        const dataTable =\n",
              "          await google.colab.kernel.invokeFunction('convertToInteractive',\n",
              "                                                    [key], {});\n",
              "        if (!dataTable) return;\n",
              "\n",
              "        const docLinkHtml = 'Like what you see? Visit the ' +\n",
              "          '<a target=\"_blank\" href=https://colab.research.google.com/notebooks/data_table.ipynb>data table notebook</a>'\n",
              "          + ' to learn more about interactive tables.';\n",
              "        element.innerHTML = '';\n",
              "        dataTable['output_type'] = 'display_data';\n",
              "        await google.colab.output.renderOutput(dataTable, element);\n",
              "        const docLink = document.createElement('div');\n",
              "        docLink.innerHTML = docLinkHtml;\n",
              "        element.appendChild(docLink);\n",
              "      }\n",
              "    </script>\n",
              "  </div>\n",
              "\n",
              "\n",
              "<div id=\"df-10d17405-e643-474a-abb7-8211d49cda97\">\n",
              "  <button class=\"colab-df-quickchart\" onclick=\"quickchart('df-10d17405-e643-474a-abb7-8211d49cda97')\"\n",
              "            title=\"Suggest charts\"\n",
              "            style=\"display:none;\">\n",
              "\n",
              "<svg xmlns=\"http://www.w3.org/2000/svg\" height=\"24px\"viewBox=\"0 0 24 24\"\n",
              "     width=\"24px\">\n",
              "    <g>\n",
              "        <path d=\"M19 3H5c-1.1 0-2 .9-2 2v14c0 1.1.9 2 2 2h14c1.1 0 2-.9 2-2V5c0-1.1-.9-2-2-2zM9 17H7v-7h2v7zm4 0h-2V7h2v10zm4 0h-2v-4h2v4z\"/>\n",
              "    </g>\n",
              "</svg>\n",
              "  </button>\n",
              "\n",
              "<style>\n",
              "  .colab-df-quickchart {\n",
              "      --bg-color: #E8F0FE;\n",
              "      --fill-color: #1967D2;\n",
              "      --hover-bg-color: #E2EBFA;\n",
              "      --hover-fill-color: #174EA6;\n",
              "      --disabled-fill-color: #AAA;\n",
              "      --disabled-bg-color: #DDD;\n",
              "  }\n",
              "\n",
              "  [theme=dark] .colab-df-quickchart {\n",
              "      --bg-color: #3B4455;\n",
              "      --fill-color: #D2E3FC;\n",
              "      --hover-bg-color: #434B5C;\n",
              "      --hover-fill-color: #FFFFFF;\n",
              "      --disabled-bg-color: #3B4455;\n",
              "      --disabled-fill-color: #666;\n",
              "  }\n",
              "\n",
              "  .colab-df-quickchart {\n",
              "    background-color: var(--bg-color);\n",
              "    border: none;\n",
              "    border-radius: 50%;\n",
              "    cursor: pointer;\n",
              "    display: none;\n",
              "    fill: var(--fill-color);\n",
              "    height: 32px;\n",
              "    padding: 0;\n",
              "    width: 32px;\n",
              "  }\n",
              "\n",
              "  .colab-df-quickchart:hover {\n",
              "    background-color: var(--hover-bg-color);\n",
              "    box-shadow: 0 1px 2px rgba(60, 64, 67, 0.3), 0 1px 3px 1px rgba(60, 64, 67, 0.15);\n",
              "    fill: var(--button-hover-fill-color);\n",
              "  }\n",
              "\n",
              "  .colab-df-quickchart-complete:disabled,\n",
              "  .colab-df-quickchart-complete:disabled:hover {\n",
              "    background-color: var(--disabled-bg-color);\n",
              "    fill: var(--disabled-fill-color);\n",
              "    box-shadow: none;\n",
              "  }\n",
              "\n",
              "  .colab-df-spinner {\n",
              "    border: 2px solid var(--fill-color);\n",
              "    border-color: transparent;\n",
              "    border-bottom-color: var(--fill-color);\n",
              "    animation:\n",
              "      spin 1s steps(1) infinite;\n",
              "  }\n",
              "\n",
              "  @keyframes spin {\n",
              "    0% {\n",
              "      border-color: transparent;\n",
              "      border-bottom-color: var(--fill-color);\n",
              "      border-left-color: var(--fill-color);\n",
              "    }\n",
              "    20% {\n",
              "      border-color: transparent;\n",
              "      border-left-color: var(--fill-color);\n",
              "      border-top-color: var(--fill-color);\n",
              "    }\n",
              "    30% {\n",
              "      border-color: transparent;\n",
              "      border-left-color: var(--fill-color);\n",
              "      border-top-color: var(--fill-color);\n",
              "      border-right-color: var(--fill-color);\n",
              "    }\n",
              "    40% {\n",
              "      border-color: transparent;\n",
              "      border-right-color: var(--fill-color);\n",
              "      border-top-color: var(--fill-color);\n",
              "    }\n",
              "    60% {\n",
              "      border-color: transparent;\n",
              "      border-right-color: var(--fill-color);\n",
              "    }\n",
              "    80% {\n",
              "      border-color: transparent;\n",
              "      border-right-color: var(--fill-color);\n",
              "      border-bottom-color: var(--fill-color);\n",
              "    }\n",
              "    90% {\n",
              "      border-color: transparent;\n",
              "      border-bottom-color: var(--fill-color);\n",
              "    }\n",
              "  }\n",
              "</style>\n",
              "\n",
              "  <script>\n",
              "    async function quickchart(key) {\n",
              "      const quickchartButtonEl =\n",
              "        document.querySelector('#' + key + ' button');\n",
              "      quickchartButtonEl.disabled = true;  // To prevent multiple clicks.\n",
              "      quickchartButtonEl.classList.add('colab-df-spinner');\n",
              "      try {\n",
              "        const charts = await google.colab.kernel.invokeFunction(\n",
              "            'suggestCharts', [key], {});\n",
              "      } catch (error) {\n",
              "        console.error('Error during call to suggestCharts:', error);\n",
              "      }\n",
              "      quickchartButtonEl.classList.remove('colab-df-spinner');\n",
              "      quickchartButtonEl.classList.add('colab-df-quickchart-complete');\n",
              "    }\n",
              "    (() => {\n",
              "      let quickchartButtonEl =\n",
              "        document.querySelector('#df-10d17405-e643-474a-abb7-8211d49cda97 button');\n",
              "      quickchartButtonEl.style.display =\n",
              "        google.colab.kernel.accessAllowed ? 'block' : 'none';\n",
              "    })();\n",
              "  </script>\n",
              "</div>\n",
              "\n",
              "    </div>\n",
              "  </div>\n"
            ],
            "application/vnd.google.colaboratory.intrinsic+json": {
              "type": "dataframe",
              "variable_name": "df",
              "summary": "{\n  \"name\": \"df\",\n  \"rows\": 768,\n  \"fields\": [\n    {\n      \"column\": \"Pregnancies\",\n      \"properties\": {\n        \"dtype\": \"number\",\n        \"std\": 3,\n        \"min\": 0,\n        \"max\": 17,\n        \"samples\": [\n          6,\n          1,\n          3\n        ],\n        \"num_unique_values\": 17,\n        \"semantic_type\": \"\",\n        \"description\": \"\"\n      }\n    },\n    {\n      \"column\": \"Glucose\",\n      \"properties\": {\n        \"dtype\": \"number\",\n        \"std\": 31,\n        \"min\": 0,\n        \"max\": 199,\n        \"samples\": [\n          151,\n          101,\n          112\n        ],\n        \"num_unique_values\": 136,\n        \"semantic_type\": \"\",\n        \"description\": \"\"\n      }\n    },\n    {\n      \"column\": \"BloodPressure\",\n      \"properties\": {\n        \"dtype\": \"number\",\n        \"std\": 19,\n        \"min\": 0,\n        \"max\": 122,\n        \"samples\": [\n          86,\n          46,\n          85\n        ],\n        \"num_unique_values\": 47,\n        \"semantic_type\": \"\",\n        \"description\": \"\"\n      }\n    },\n    {\n      \"column\": \"SkinThickness\",\n      \"properties\": {\n        \"dtype\": \"number\",\n        \"std\": 15,\n        \"min\": 0,\n        \"max\": 99,\n        \"samples\": [\n          7,\n          12,\n          48\n        ],\n        \"num_unique_values\": 51,\n        \"semantic_type\": \"\",\n        \"description\": \"\"\n      }\n    },\n    {\n      \"column\": \"Insulin\",\n      \"properties\": {\n        \"dtype\": \"number\",\n        \"std\": 115,\n        \"min\": 0,\n        \"max\": 846,\n        \"samples\": [\n          52,\n          41,\n          183\n        ],\n        \"num_unique_values\": 186,\n        \"semantic_type\": \"\",\n        \"description\": \"\"\n      }\n    },\n    {\n      \"column\": \"BMI\",\n      \"properties\": {\n        \"dtype\": \"number\",\n        \"std\": 7.884160320375446,\n        \"min\": 0.0,\n        \"max\": 67.1,\n        \"samples\": [\n          19.9,\n          31.0,\n          38.1\n        ],\n        \"num_unique_values\": 248,\n        \"semantic_type\": \"\",\n        \"description\": \"\"\n      }\n    },\n    {\n      \"column\": \"DiabetesPedigreeFunction\",\n      \"properties\": {\n        \"dtype\": \"number\",\n        \"std\": 0.3313285950127749,\n        \"min\": 0.078,\n        \"max\": 2.42,\n        \"samples\": [\n          1.731,\n          0.426,\n          0.138\n        ],\n        \"num_unique_values\": 517,\n        \"semantic_type\": \"\",\n        \"description\": \"\"\n      }\n    },\n    {\n      \"column\": \"Age\",\n      \"properties\": {\n        \"dtype\": \"number\",\n        \"std\": 11,\n        \"min\": 21,\n        \"max\": 81,\n        \"samples\": [\n          60,\n          47,\n          72\n        ],\n        \"num_unique_values\": 52,\n        \"semantic_type\": \"\",\n        \"description\": \"\"\n      }\n    },\n    {\n      \"column\": \"Outcome\",\n      \"properties\": {\n        \"dtype\": \"number\",\n        \"std\": 0,\n        \"min\": 0,\n        \"max\": 1,\n        \"samples\": [\n          0,\n          1\n        ],\n        \"num_unique_values\": 2,\n        \"semantic_type\": \"\",\n        \"description\": \"\"\n      }\n    }\n  ]\n}"
            }
          },
          "metadata": {},
          "execution_count": 55
        }
      ]
    },
    {
      "cell_type": "code",
      "source": [
        "df.corr()['Outcome'] #Give the correlation of each column with the Outcome column"
      ],
      "metadata": {
        "colab": {
          "base_uri": "https://localhost:8080/"
        },
        "id": "HQI3Qy-SXZF6",
        "outputId": "88821576-d4c7-46b9-eaa7-9f1904209c9e"
      },
      "execution_count": 56,
      "outputs": [
        {
          "output_type": "execute_result",
          "data": {
            "text/plain": [
              "Pregnancies                 0.221898\n",
              "Glucose                     0.466581\n",
              "BloodPressure               0.065068\n",
              "SkinThickness               0.074752\n",
              "Insulin                     0.130548\n",
              "BMI                         0.292695\n",
              "DiabetesPedigreeFunction    0.173844\n",
              "Age                         0.238356\n",
              "Outcome                     1.000000\n",
              "Name: Outcome, dtype: float64"
            ]
          },
          "metadata": {},
          "execution_count": 56
        }
      ]
    },
    {
      "cell_type": "code",
      "source": [
        "X = df.iloc[:,:-1].values\n",
        "y=df.iloc[:,-1].values\n",
        "X"
      ],
      "metadata": {
        "colab": {
          "base_uri": "https://localhost:8080/"
        },
        "id": "IDfJWNHzXwaS",
        "outputId": "1752266b-4767-47f3-caec-9918c4d6dbb6"
      },
      "execution_count": 57,
      "outputs": [
        {
          "output_type": "execute_result",
          "data": {
            "text/plain": [
              "array([[  6.   , 148.   ,  72.   , ...,  33.6  ,   0.627,  50.   ],\n",
              "       [  1.   ,  85.   ,  66.   , ...,  26.6  ,   0.351,  31.   ],\n",
              "       [  8.   , 183.   ,  64.   , ...,  23.3  ,   0.672,  32.   ],\n",
              "       ...,\n",
              "       [  5.   , 121.   ,  72.   , ...,  26.2  ,   0.245,  30.   ],\n",
              "       [  1.   , 126.   ,  60.   , ...,  30.1  ,   0.349,  47.   ],\n",
              "       [  1.   ,  93.   ,  70.   , ...,  30.4  ,   0.315,  23.   ]])"
            ]
          },
          "metadata": {},
          "execution_count": 57
        }
      ]
    },
    {
      "cell_type": "code",
      "source": [
        "from sklearn.preprocessing import StandardScaler\n",
        "scaler = StandardScaler()"
      ],
      "metadata": {
        "id": "kJrSRKDEYlCh"
      },
      "execution_count": 58,
      "outputs": []
    },
    {
      "cell_type": "code",
      "source": [
        "X = scaler.fit_transform(X)\n",
        "X.shape"
      ],
      "metadata": {
        "colab": {
          "base_uri": "https://localhost:8080/"
        },
        "id": "ngb2th4mYrXw",
        "outputId": "6c110857-3e2e-499c-e780-6f5b47c1442d"
      },
      "execution_count": 59,
      "outputs": [
        {
          "output_type": "execute_result",
          "data": {
            "text/plain": [
              "(768, 8)"
            ]
          },
          "metadata": {},
          "execution_count": 59
        }
      ]
    },
    {
      "cell_type": "code",
      "source": [
        "from sklearn.model_selection import train_test_split\n",
        "X_train, X_test, y_train, y_test=train_test_split(X,y,test_size=0.2,random_state=1)"
      ],
      "metadata": {
        "id": "rTK7EVW_Y-Cf"
      },
      "execution_count": 60,
      "outputs": []
    },
    {
      "cell_type": "code",
      "source": [
        "import tensorflow\n",
        "from tensorflow import keras\n",
        "from keras import Sequential\n",
        "from keras.layers import Dense,Dropout\n",
        "from tensorflow.keras.callbacks import EarlyStopping"
      ],
      "metadata": {
        "id": "aX-MfHemZbfp"
      },
      "execution_count": 61,
      "outputs": []
    },
    {
      "cell_type": "code",
      "source": [
        "model=Sequential()\n",
        "model.add(Dense(units=32,activation='relu',input_dim=8))\n",
        "model.add(Dense(units=1,activation='sigmoid'))\n",
        "\n",
        "model.compile(loss='binary_crossentropy', optimizer='adam', metrics=['accuracy'])"
      ],
      "metadata": {
        "id": "412eAt_rZtMh"
      },
      "execution_count": 62,
      "outputs": []
    },
    {
      "cell_type": "code",
      "source": [
        "history=model.fit(X_train,y_train, batch_size=32, epochs=100,validation_data=(X_test,y_test))"
      ],
      "metadata": {
        "colab": {
          "base_uri": "https://localhost:8080/"
        },
        "id": "UtwuInpLaQs4",
        "outputId": "177a1d57-7ed1-4569-8ab9-1b12a6b24b26"
      },
      "execution_count": 63,
      "outputs": [
        {
          "output_type": "stream",
          "name": "stdout",
          "text": [
            "Epoch 1/100\n",
            "20/20 [==============================] - 1s 12ms/step - loss: 0.7051 - accuracy: 0.5114 - val_loss: 0.6524 - val_accuracy: 0.6169\n",
            "Epoch 2/100\n",
            "20/20 [==============================] - 0s 3ms/step - loss: 0.6566 - accuracy: 0.6384 - val_loss: 0.6129 - val_accuracy: 0.6948\n",
            "Epoch 3/100\n",
            "20/20 [==============================] - 0s 4ms/step - loss: 0.6195 - accuracy: 0.6922 - val_loss: 0.5792 - val_accuracy: 0.7532\n",
            "Epoch 4/100\n",
            "20/20 [==============================] - 0s 4ms/step - loss: 0.5883 - accuracy: 0.7231 - val_loss: 0.5521 - val_accuracy: 0.7662\n",
            "Epoch 5/100\n",
            "20/20 [==============================] - 0s 3ms/step - loss: 0.5632 - accuracy: 0.7329 - val_loss: 0.5311 - val_accuracy: 0.7987\n",
            "Epoch 6/100\n",
            "20/20 [==============================] - 0s 3ms/step - loss: 0.5432 - accuracy: 0.7443 - val_loss: 0.5121 - val_accuracy: 0.7987\n",
            "Epoch 7/100\n",
            "20/20 [==============================] - 0s 3ms/step - loss: 0.5271 - accuracy: 0.7573 - val_loss: 0.4995 - val_accuracy: 0.7857\n",
            "Epoch 8/100\n",
            "20/20 [==============================] - 0s 4ms/step - loss: 0.5140 - accuracy: 0.7573 - val_loss: 0.4882 - val_accuracy: 0.7857\n",
            "Epoch 9/100\n",
            "20/20 [==============================] - 0s 4ms/step - loss: 0.5037 - accuracy: 0.7687 - val_loss: 0.4801 - val_accuracy: 0.7792\n",
            "Epoch 10/100\n",
            "20/20 [==============================] - 0s 4ms/step - loss: 0.4951 - accuracy: 0.7687 - val_loss: 0.4732 - val_accuracy: 0.7727\n",
            "Epoch 11/100\n",
            "20/20 [==============================] - 0s 4ms/step - loss: 0.4880 - accuracy: 0.7687 - val_loss: 0.4673 - val_accuracy: 0.7662\n",
            "Epoch 12/100\n",
            "20/20 [==============================] - 0s 3ms/step - loss: 0.4818 - accuracy: 0.7720 - val_loss: 0.4632 - val_accuracy: 0.7597\n",
            "Epoch 13/100\n",
            "20/20 [==============================] - 0s 4ms/step - loss: 0.4772 - accuracy: 0.7736 - val_loss: 0.4596 - val_accuracy: 0.7597\n",
            "Epoch 14/100\n",
            "20/20 [==============================] - 0s 4ms/step - loss: 0.4730 - accuracy: 0.7736 - val_loss: 0.4574 - val_accuracy: 0.7597\n",
            "Epoch 15/100\n",
            "20/20 [==============================] - 0s 3ms/step - loss: 0.4696 - accuracy: 0.7736 - val_loss: 0.4557 - val_accuracy: 0.7662\n",
            "Epoch 16/100\n",
            "20/20 [==============================] - 0s 4ms/step - loss: 0.4666 - accuracy: 0.7736 - val_loss: 0.4545 - val_accuracy: 0.7727\n",
            "Epoch 17/100\n",
            "20/20 [==============================] - 0s 4ms/step - loss: 0.4635 - accuracy: 0.7720 - val_loss: 0.4538 - val_accuracy: 0.7792\n",
            "Epoch 18/100\n",
            "20/20 [==============================] - 0s 4ms/step - loss: 0.4610 - accuracy: 0.7736 - val_loss: 0.4530 - val_accuracy: 0.7792\n",
            "Epoch 19/100\n",
            "20/20 [==============================] - 0s 4ms/step - loss: 0.4588 - accuracy: 0.7769 - val_loss: 0.4523 - val_accuracy: 0.7857\n",
            "Epoch 20/100\n",
            "20/20 [==============================] - 0s 3ms/step - loss: 0.4580 - accuracy: 0.7671 - val_loss: 0.4518 - val_accuracy: 0.8052\n",
            "Epoch 21/100\n",
            "20/20 [==============================] - 0s 4ms/step - loss: 0.4560 - accuracy: 0.7687 - val_loss: 0.4521 - val_accuracy: 0.7987\n",
            "Epoch 22/100\n",
            "20/20 [==============================] - 0s 4ms/step - loss: 0.4558 - accuracy: 0.7687 - val_loss: 0.4514 - val_accuracy: 0.7987\n",
            "Epoch 23/100\n",
            "20/20 [==============================] - 0s 4ms/step - loss: 0.4538 - accuracy: 0.7687 - val_loss: 0.4527 - val_accuracy: 0.7987\n",
            "Epoch 24/100\n",
            "20/20 [==============================] - 0s 4ms/step - loss: 0.4526 - accuracy: 0.7720 - val_loss: 0.4532 - val_accuracy: 0.7987\n",
            "Epoch 25/100\n",
            "20/20 [==============================] - 0s 4ms/step - loss: 0.4519 - accuracy: 0.7736 - val_loss: 0.4545 - val_accuracy: 0.7792\n",
            "Epoch 26/100\n",
            "20/20 [==============================] - 0s 3ms/step - loss: 0.4508 - accuracy: 0.7720 - val_loss: 0.4539 - val_accuracy: 0.7857\n",
            "Epoch 27/100\n",
            "20/20 [==============================] - 0s 3ms/step - loss: 0.4499 - accuracy: 0.7720 - val_loss: 0.4525 - val_accuracy: 0.7857\n",
            "Epoch 28/100\n",
            "20/20 [==============================] - 0s 4ms/step - loss: 0.4496 - accuracy: 0.7720 - val_loss: 0.4534 - val_accuracy: 0.7922\n",
            "Epoch 29/100\n",
            "20/20 [==============================] - 0s 3ms/step - loss: 0.4480 - accuracy: 0.7736 - val_loss: 0.4525 - val_accuracy: 0.7857\n",
            "Epoch 30/100\n",
            "20/20 [==============================] - 0s 4ms/step - loss: 0.4479 - accuracy: 0.7704 - val_loss: 0.4524 - val_accuracy: 0.7987\n",
            "Epoch 31/100\n",
            "20/20 [==============================] - 0s 3ms/step - loss: 0.4470 - accuracy: 0.7736 - val_loss: 0.4526 - val_accuracy: 0.7922\n",
            "Epoch 32/100\n",
            "20/20 [==============================] - 0s 3ms/step - loss: 0.4467 - accuracy: 0.7736 - val_loss: 0.4534 - val_accuracy: 0.7922\n",
            "Epoch 33/100\n",
            "20/20 [==============================] - 0s 3ms/step - loss: 0.4456 - accuracy: 0.7736 - val_loss: 0.4544 - val_accuracy: 0.7987\n",
            "Epoch 34/100\n",
            "20/20 [==============================] - 0s 4ms/step - loss: 0.4450 - accuracy: 0.7736 - val_loss: 0.4547 - val_accuracy: 0.7987\n",
            "Epoch 35/100\n",
            "20/20 [==============================] - 0s 3ms/step - loss: 0.4445 - accuracy: 0.7752 - val_loss: 0.4552 - val_accuracy: 0.7987\n",
            "Epoch 36/100\n",
            "20/20 [==============================] - 0s 3ms/step - loss: 0.4438 - accuracy: 0.7736 - val_loss: 0.4557 - val_accuracy: 0.7987\n",
            "Epoch 37/100\n",
            "20/20 [==============================] - 0s 3ms/step - loss: 0.4433 - accuracy: 0.7752 - val_loss: 0.4541 - val_accuracy: 0.7987\n",
            "Epoch 38/100\n",
            "20/20 [==============================] - 0s 3ms/step - loss: 0.4430 - accuracy: 0.7752 - val_loss: 0.4535 - val_accuracy: 0.7922\n",
            "Epoch 39/100\n",
            "20/20 [==============================] - 0s 3ms/step - loss: 0.4426 - accuracy: 0.7785 - val_loss: 0.4542 - val_accuracy: 0.7987\n",
            "Epoch 40/100\n",
            "20/20 [==============================] - 0s 3ms/step - loss: 0.4418 - accuracy: 0.7736 - val_loss: 0.4538 - val_accuracy: 0.7987\n",
            "Epoch 41/100\n",
            "20/20 [==============================] - 0s 4ms/step - loss: 0.4409 - accuracy: 0.7785 - val_loss: 0.4533 - val_accuracy: 0.7987\n",
            "Epoch 42/100\n",
            "20/20 [==============================] - 0s 3ms/step - loss: 0.4406 - accuracy: 0.7752 - val_loss: 0.4565 - val_accuracy: 0.7987\n",
            "Epoch 43/100\n",
            "20/20 [==============================] - 0s 3ms/step - loss: 0.4400 - accuracy: 0.7769 - val_loss: 0.4569 - val_accuracy: 0.7987\n",
            "Epoch 44/100\n",
            "20/20 [==============================] - 0s 3ms/step - loss: 0.4396 - accuracy: 0.7769 - val_loss: 0.4557 - val_accuracy: 0.7987\n",
            "Epoch 45/100\n",
            "20/20 [==============================] - 0s 4ms/step - loss: 0.4386 - accuracy: 0.7785 - val_loss: 0.4572 - val_accuracy: 0.7987\n",
            "Epoch 46/100\n",
            "20/20 [==============================] - 0s 4ms/step - loss: 0.4381 - accuracy: 0.7752 - val_loss: 0.4558 - val_accuracy: 0.7987\n",
            "Epoch 47/100\n",
            "20/20 [==============================] - 0s 3ms/step - loss: 0.4376 - accuracy: 0.7801 - val_loss: 0.4550 - val_accuracy: 0.7987\n",
            "Epoch 48/100\n",
            "20/20 [==============================] - 0s 4ms/step - loss: 0.4375 - accuracy: 0.7801 - val_loss: 0.4555 - val_accuracy: 0.7987\n",
            "Epoch 49/100\n",
            "20/20 [==============================] - 0s 4ms/step - loss: 0.4365 - accuracy: 0.7785 - val_loss: 0.4566 - val_accuracy: 0.7987\n",
            "Epoch 50/100\n",
            "20/20 [==============================] - 0s 3ms/step - loss: 0.4367 - accuracy: 0.7834 - val_loss: 0.4569 - val_accuracy: 0.7987\n",
            "Epoch 51/100\n",
            "20/20 [==============================] - 0s 4ms/step - loss: 0.4361 - accuracy: 0.7818 - val_loss: 0.4555 - val_accuracy: 0.7987\n",
            "Epoch 52/100\n",
            "20/20 [==============================] - 0s 4ms/step - loss: 0.4355 - accuracy: 0.7785 - val_loss: 0.4547 - val_accuracy: 0.7987\n",
            "Epoch 53/100\n",
            "20/20 [==============================] - 0s 3ms/step - loss: 0.4356 - accuracy: 0.7866 - val_loss: 0.4545 - val_accuracy: 0.7987\n",
            "Epoch 54/100\n",
            "20/20 [==============================] - 0s 4ms/step - loss: 0.4350 - accuracy: 0.7866 - val_loss: 0.4555 - val_accuracy: 0.7987\n",
            "Epoch 55/100\n",
            "20/20 [==============================] - 0s 4ms/step - loss: 0.4342 - accuracy: 0.7850 - val_loss: 0.4555 - val_accuracy: 0.7987\n",
            "Epoch 56/100\n",
            "20/20 [==============================] - 0s 3ms/step - loss: 0.4338 - accuracy: 0.7883 - val_loss: 0.4552 - val_accuracy: 0.7922\n",
            "Epoch 57/100\n",
            "20/20 [==============================] - 0s 3ms/step - loss: 0.4334 - accuracy: 0.7801 - val_loss: 0.4542 - val_accuracy: 0.7922\n",
            "Epoch 58/100\n",
            "20/20 [==============================] - 0s 4ms/step - loss: 0.4328 - accuracy: 0.7850 - val_loss: 0.4541 - val_accuracy: 0.7922\n",
            "Epoch 59/100\n",
            "20/20 [==============================] - 0s 4ms/step - loss: 0.4328 - accuracy: 0.7866 - val_loss: 0.4535 - val_accuracy: 0.7987\n",
            "Epoch 60/100\n",
            "20/20 [==============================] - 0s 4ms/step - loss: 0.4319 - accuracy: 0.7883 - val_loss: 0.4530 - val_accuracy: 0.7922\n",
            "Epoch 61/100\n",
            "20/20 [==============================] - 0s 3ms/step - loss: 0.4315 - accuracy: 0.7801 - val_loss: 0.4538 - val_accuracy: 0.7987\n",
            "Epoch 62/100\n",
            "20/20 [==============================] - 0s 3ms/step - loss: 0.4314 - accuracy: 0.7834 - val_loss: 0.4542 - val_accuracy: 0.7987\n",
            "Epoch 63/100\n",
            "20/20 [==============================] - 0s 4ms/step - loss: 0.4312 - accuracy: 0.7818 - val_loss: 0.4547 - val_accuracy: 0.7987\n",
            "Epoch 64/100\n",
            "20/20 [==============================] - 0s 4ms/step - loss: 0.4304 - accuracy: 0.7801 - val_loss: 0.4541 - val_accuracy: 0.7922\n",
            "Epoch 65/100\n",
            "20/20 [==============================] - 0s 3ms/step - loss: 0.4302 - accuracy: 0.7834 - val_loss: 0.4540 - val_accuracy: 0.7922\n",
            "Epoch 66/100\n",
            "20/20 [==============================] - 0s 3ms/step - loss: 0.4296 - accuracy: 0.7883 - val_loss: 0.4540 - val_accuracy: 0.7922\n",
            "Epoch 67/100\n",
            "20/20 [==============================] - 0s 3ms/step - loss: 0.4295 - accuracy: 0.7899 - val_loss: 0.4533 - val_accuracy: 0.7922\n",
            "Epoch 68/100\n",
            "20/20 [==============================] - 0s 4ms/step - loss: 0.4289 - accuracy: 0.7899 - val_loss: 0.4536 - val_accuracy: 0.7987\n",
            "Epoch 69/100\n",
            "20/20 [==============================] - 0s 4ms/step - loss: 0.4288 - accuracy: 0.7899 - val_loss: 0.4541 - val_accuracy: 0.7987\n",
            "Epoch 70/100\n",
            "20/20 [==============================] - 0s 4ms/step - loss: 0.4282 - accuracy: 0.7899 - val_loss: 0.4536 - val_accuracy: 0.7987\n",
            "Epoch 71/100\n",
            "20/20 [==============================] - 0s 4ms/step - loss: 0.4276 - accuracy: 0.7883 - val_loss: 0.4552 - val_accuracy: 0.7987\n",
            "Epoch 72/100\n",
            "20/20 [==============================] - 0s 4ms/step - loss: 0.4274 - accuracy: 0.7883 - val_loss: 0.4558 - val_accuracy: 0.7987\n",
            "Epoch 73/100\n",
            "20/20 [==============================] - 0s 3ms/step - loss: 0.4270 - accuracy: 0.7866 - val_loss: 0.4565 - val_accuracy: 0.7987\n",
            "Epoch 74/100\n",
            "20/20 [==============================] - 0s 4ms/step - loss: 0.4267 - accuracy: 0.7866 - val_loss: 0.4572 - val_accuracy: 0.7857\n",
            "Epoch 75/100\n",
            "20/20 [==============================] - 0s 4ms/step - loss: 0.4265 - accuracy: 0.7883 - val_loss: 0.4575 - val_accuracy: 0.7922\n",
            "Epoch 76/100\n",
            "20/20 [==============================] - 0s 4ms/step - loss: 0.4261 - accuracy: 0.7899 - val_loss: 0.4559 - val_accuracy: 0.7922\n",
            "Epoch 77/100\n",
            "20/20 [==============================] - 0s 3ms/step - loss: 0.4257 - accuracy: 0.7915 - val_loss: 0.4552 - val_accuracy: 0.7922\n",
            "Epoch 78/100\n",
            "20/20 [==============================] - 0s 3ms/step - loss: 0.4253 - accuracy: 0.7866 - val_loss: 0.4562 - val_accuracy: 0.7922\n",
            "Epoch 79/100\n",
            "20/20 [==============================] - 0s 3ms/step - loss: 0.4250 - accuracy: 0.7883 - val_loss: 0.4563 - val_accuracy: 0.7922\n",
            "Epoch 80/100\n",
            "20/20 [==============================] - 0s 3ms/step - loss: 0.4247 - accuracy: 0.7899 - val_loss: 0.4557 - val_accuracy: 0.7922\n",
            "Epoch 81/100\n",
            "20/20 [==============================] - 0s 3ms/step - loss: 0.4245 - accuracy: 0.7866 - val_loss: 0.4559 - val_accuracy: 0.7922\n",
            "Epoch 82/100\n",
            "20/20 [==============================] - 0s 3ms/step - loss: 0.4237 - accuracy: 0.7899 - val_loss: 0.4553 - val_accuracy: 0.7922\n",
            "Epoch 83/100\n",
            "20/20 [==============================] - 0s 3ms/step - loss: 0.4233 - accuracy: 0.7915 - val_loss: 0.4551 - val_accuracy: 0.7922\n",
            "Epoch 84/100\n",
            "20/20 [==============================] - 0s 3ms/step - loss: 0.4228 - accuracy: 0.7915 - val_loss: 0.4550 - val_accuracy: 0.7922\n",
            "Epoch 85/100\n",
            "20/20 [==============================] - 0s 3ms/step - loss: 0.4230 - accuracy: 0.7899 - val_loss: 0.4556 - val_accuracy: 0.7922\n",
            "Epoch 86/100\n",
            "20/20 [==============================] - 0s 3ms/step - loss: 0.4232 - accuracy: 0.7915 - val_loss: 0.4540 - val_accuracy: 0.7857\n",
            "Epoch 87/100\n",
            "20/20 [==============================] - 0s 3ms/step - loss: 0.4222 - accuracy: 0.7948 - val_loss: 0.4548 - val_accuracy: 0.7922\n",
            "Epoch 88/100\n",
            "20/20 [==============================] - 0s 4ms/step - loss: 0.4214 - accuracy: 0.7980 - val_loss: 0.4544 - val_accuracy: 0.7922\n",
            "Epoch 89/100\n",
            "20/20 [==============================] - 0s 4ms/step - loss: 0.4209 - accuracy: 0.7997 - val_loss: 0.4549 - val_accuracy: 0.7922\n",
            "Epoch 90/100\n",
            "20/20 [==============================] - 0s 3ms/step - loss: 0.4206 - accuracy: 0.7948 - val_loss: 0.4554 - val_accuracy: 0.7922\n",
            "Epoch 91/100\n",
            "20/20 [==============================] - 0s 4ms/step - loss: 0.4207 - accuracy: 0.7964 - val_loss: 0.4559 - val_accuracy: 0.7987\n",
            "Epoch 92/100\n",
            "20/20 [==============================] - 0s 5ms/step - loss: 0.4197 - accuracy: 0.7980 - val_loss: 0.4573 - val_accuracy: 0.7987\n",
            "Epoch 93/100\n",
            "20/20 [==============================] - 0s 5ms/step - loss: 0.4202 - accuracy: 0.7980 - val_loss: 0.4583 - val_accuracy: 0.7987\n",
            "Epoch 94/100\n",
            "20/20 [==============================] - 0s 5ms/step - loss: 0.4193 - accuracy: 0.7980 - val_loss: 0.4547 - val_accuracy: 0.7922\n",
            "Epoch 95/100\n",
            "20/20 [==============================] - 0s 5ms/step - loss: 0.4187 - accuracy: 0.7997 - val_loss: 0.4546 - val_accuracy: 0.7922\n",
            "Epoch 96/100\n",
            "20/20 [==============================] - 0s 5ms/step - loss: 0.4183 - accuracy: 0.7997 - val_loss: 0.4557 - val_accuracy: 0.7922\n",
            "Epoch 97/100\n",
            "20/20 [==============================] - 0s 5ms/step - loss: 0.4181 - accuracy: 0.7980 - val_loss: 0.4565 - val_accuracy: 0.7922\n",
            "Epoch 98/100\n",
            "20/20 [==============================] - 0s 5ms/step - loss: 0.4172 - accuracy: 0.7948 - val_loss: 0.4580 - val_accuracy: 0.7987\n",
            "Epoch 99/100\n",
            "20/20 [==============================] - 0s 5ms/step - loss: 0.4185 - accuracy: 0.7964 - val_loss: 0.4580 - val_accuracy: 0.7987\n",
            "Epoch 100/100\n",
            "20/20 [==============================] - 0s 5ms/step - loss: 0.4170 - accuracy: 0.7915 - val_loss: 0.4570 - val_accuracy: 0.7922\n"
          ]
        }
      ]
    },
    {
      "cell_type": "code",
      "source": [
        "plt.plot(history.history['loss'])\n",
        "plt.plot(history.history['val_loss'])"
      ],
      "metadata": {
        "colab": {
          "base_uri": "https://localhost:8080/",
          "height": 447
        },
        "id": "SVNq-RtkzOE6",
        "outputId": "94caebcf-2ea6-4c76-8d47-925920f72c97"
      },
      "execution_count": 64,
      "outputs": [
        {
          "output_type": "execute_result",
          "data": {
            "text/plain": [
              "[<matplotlib.lines.Line2D at 0x7c7e1d565000>]"
            ]
          },
          "metadata": {},
          "execution_count": 64
        },
        {
          "output_type": "display_data",
          "data": {
            "text/plain": [
              "<Figure size 640x480 with 1 Axes>"
            ],
            "image/png": "[encoded data removed]"
          },
          "metadata": {}
        }
      ]
    },
    {
      "cell_type": "code",
      "source": [
        "plt.plot(history.history['accuracy'])\n",
        "plt.plot(history.history['val_accuracy'])"
      ],
      "metadata": {
        "colab": {
          "base_uri": "https://localhost:8080/",
          "height": 447
        },
        "id": "UVOlw2TUzSkH",
        "outputId": "03c4c217-2059-451a-9a28-a67232a880c0"
      },
      "execution_count": 65,
      "outputs": [
        {
          "output_type": "execute_result",
          "data": {
            "text/plain": [
              "[<matplotlib.lines.Line2D at 0x7c7e1d436230>]"
            ]
          },
          "metadata": {},
          "execution_count": 65
        },
        {
          "output_type": "display_data",
          "data": {
            "text/plain": [
              "<Figure size 640x480 with 1 Axes>"
            ],
            "image/png": "[encoded data removed]"
          },
          "metadata": {}
        }
      ]
    },
    {
      "cell_type": "markdown",
      "source": [
        "## Finding the Best Optimizer"
      ],
      "metadata": {
        "id": "bwBsZ8mOdLos"
      }
    },
    {
      "cell_type": "code",
      "source": [
        "!pip install keras_tuner"
      ],
      "metadata": {
        "colab": {
          "base_uri": "https://localhost:8080/"
        },
        "id": "n3rF9Z9RapYl",
        "outputId": "ec146bef-4061-4317-ee99-06b2e384e525"
      },
      "execution_count": 66,
      "outputs": [
        {
          "output_type": "stream",
          "name": "stdout",
          "text": [
            "Requirement already satisfied: keras_tuner in /usr/local/lib/python3.10/dist-packages (1.4.6)\n",
            "Requirement already satisfied: keras in /usr/local/lib/python3.10/dist-packages (from keras_tuner) (2.15.0)\n",
            "Requirement already satisfied: packaging in /usr/local/lib/python3.10/dist-packages (from keras_tuner) (23.2)\n",
            "Requirement already satisfied: requests in /usr/local/lib/python3.10/dist-packages (from keras_tuner) (2.31.0)\n",
            "Requirement already satisfied: kt-legacy in /usr/local/lib/python3.10/dist-packages (from keras_tuner) (1.0.5)\n",
            "Requirement already satisfied: charset-normalizer<4,>=2 in /usr/local/lib/python3.10/dist-packages (from requests->keras_tuner) (3.3.2)\n",
            "Requirement already satisfied: idna<4,>=2.5 in /usr/local/lib/python3.10/dist-packages (from requests->keras_tuner) (3.6)\n",
            "Requirement already satisfied: urllib3<3,>=1.21.1 in /usr/local/lib/python3.10/dist-packages (from requests->keras_tuner) (2.0.7)\n",
            "Requirement already satisfied: certifi>=2017.4.17 in /usr/local/lib/python3.10/dist-packages (from requests->keras_tuner) (2024.2.2)\n"
          ]
        }
      ]
    },
    {
      "cell_type": "code",
      "source": [
        "import keras_tuner as kt"
      ],
      "metadata": {
        "id": "7DZ4gXH5c_t8"
      },
      "execution_count": 67,
      "outputs": []
    },
    {
      "cell_type": "code",
      "source": [
        "def build_model(hp):\n",
        "  model =Sequential()\n",
        "  model.add(Dense(units=32,activation='relu',input_dim=8))\n",
        "  model.add(Dense(1,activation='sigmoid'))\n",
        "\n",
        "  optimizer=hp.Choice('optimizer',values=['adam','sgd','rmsprop','adadelta'])\n",
        "  model.compile(loss='binary_crossentropy',optimizer=optimizer, metrics=['accuracy'])\n",
        "\n",
        "  return model\n"
      ],
      "metadata": {
        "id": "S-61h7MIdVj1"
      },
      "execution_count": 68,
      "outputs": []
    },
    {
      "cell_type": "code",
      "source": [
        "tuner = kt.RandomSearch(build_model,\n",
        "                         objective='val_accuracy',\n",
        "                         max_trials=5)"
      ],
      "metadata": {
        "colab": {
          "base_uri": "https://localhost:8080/"
        },
        "id": "LMph1RJPfN4e",
        "outputId": "1e304db8-521f-49bb-8365-1d973c19d958"
      },
      "execution_count": 69,
      "outputs": [
        {
          "output_type": "stream",
          "name": "stdout",
          "text": [
            "Reloading Tuner from ./untitled_project/tuner0.json\n"
          ]
        }
      ]
    },
    {
      "cell_type": "code",
      "source": [
        "tuner.search(X_train,y_train,epochs=10,validation_data=(X_test,y_test))"
      ],
      "metadata": {
        "id": "gifSZizqfg7R"
      },
      "execution_count": 70,
      "outputs": []
    },
    {
      "cell_type": "code",
      "source": [
        "tuner.results_summary()"
      ],
      "metadata": {
        "colab": {
          "base_uri": "https://localhost:8080/"
        },
        "id": "wT6-bFqigP33",
        "outputId": "bd0410db-203b-491a-9ae4-0fb8ad525711"
      },
      "execution_count": 71,
      "outputs": [
        {
          "output_type": "stream",
          "name": "stdout",
          "text": [
            "Results summary\n",
            "Results in ./untitled_project\n",
            "Showing 10 best trials\n",
            "Objective(name=\"val_accuracy\", direction=\"max\")\n",
            "\n",
            "Trial 2 summary\n",
            "Hyperparameters:\n",
            "optimizer: rmsprop\n",
            "Score: 0.8116883039474487\n",
            "\n",
            "Trial 3 summary\n",
            "Hyperparameters:\n",
            "optimizer: adam\n",
            "Score: 0.8051947951316833\n",
            "\n",
            "Trial 1 summary\n",
            "Hyperparameters:\n",
            "optimizer: adadelta\n",
            "Score: 0.6883116960525513\n",
            "\n",
            "Trial 0 summary\n",
            "Hyperparameters:\n",
            "optimizer: sgd\n",
            "Score: 0.649350643157959\n"
          ]
        }
      ]
    },
    {
      "cell_type": "code",
      "source": [
        "tuner.get_best_hyperparameters()[0].values"
      ],
      "metadata": {
        "colab": {
          "base_uri": "https://localhost:8080/"
        },
        "id": "XQKCDCE2hF1T",
        "outputId": "133ab666-1d79-4d7f-aeda-dcae790761dd"
      },
      "execution_count": 72,
      "outputs": [
        {
          "output_type": "execute_result",
          "data": {
            "text/plain": [
              "{'optimizer': 'rmsprop'}"
            ]
          },
          "metadata": {},
          "execution_count": 72
        }
      ]
    },
    {
      "cell_type": "code",
      "source": [
        "model = tuner.get_best_models(num_models=1)[0]"
      ],
      "metadata": {
        "id": "gOBH56gUhYC9"
      },
      "execution_count": 73,
      "outputs": []
    },
    {
      "cell_type": "code",
      "source": [
        "model.summary()"
      ],
      "metadata": {
        "colab": {
          "base_uri": "https://localhost:8080/"
        },
        "id": "pze0NQeghmWw",
        "outputId": "4c992a38-63ab-401d-eb40-71af709a4243"
      },
      "execution_count": 74,
      "outputs": [
        {
          "output_type": "stream",
          "name": "stdout",
          "text": [
            "Model: \"sequential\"\n",
            "_________________________________________________________________\n",
            " Layer (type)                Output Shape              Param #   \n",
            "=================================================================\n",
            " dense (Dense)               (None, 32)                288       \n",
            "                                                                 \n",
            " dense_1 (Dense)             (None, 1)                 33        \n",
            "                                                                 \n",
            "=================================================================\n",
            "Total params: 321 (1.25 KB)\n",
            "Trainable params: 321 (1.25 KB)\n",
            "Non-trainable params: 0 (0.00 Byte)\n",
            "_________________________________________________________________\n"
          ]
        }
      ]
    },
    {
      "cell_type": "code",
      "source": [
        "model.fit(X_train,y_train,batch_size=32,initial_epoch=10,epochs=100,validation_data=(X_test,y_test))"
      ],
      "metadata": {
        "colab": {
          "base_uri": "https://localhost:8080/"
        },
        "id": "aY90EplohpL3",
        "outputId": "8617fbd8-c171-4967-e383-baf101f12744"
      },
      "execution_count": 75,
      "outputs": [
        {
          "output_type": "stream",
          "name": "stdout",
          "text": [
            "Epoch 11/100\n",
            "20/20 [==============================] - 1s 11ms/step - loss: 0.4963 - accuracy: 0.7459 - val_loss: 0.4963 - val_accuracy: 0.8052\n",
            "Epoch 12/100\n",
            "20/20 [==============================] - 0s 3ms/step - loss: 0.4863 - accuracy: 0.7508 - val_loss: 0.4890 - val_accuracy: 0.8182\n",
            "Epoch 13/100\n",
            "20/20 [==============================] - 0s 3ms/step - loss: 0.4786 - accuracy: 0.7638 - val_loss: 0.4844 - val_accuracy: 0.8182\n",
            "Epoch 14/100\n",
            "20/20 [==============================] - 0s 4ms/step - loss: 0.4724 - accuracy: 0.7655 - val_loss: 0.4800 - val_accuracy: 0.8182\n",
            "Epoch 15/100\n",
            "20/20 [==============================] - 0s 9ms/step - loss: 0.4675 - accuracy: 0.7736 - val_loss: 0.4766 - val_accuracy: 0.8117\n",
            "Epoch 16/100\n",
            "20/20 [==============================] - 0s 6ms/step - loss: 0.4636 - accuracy: 0.7687 - val_loss: 0.4759 - val_accuracy: 0.8182\n",
            "Epoch 17/100\n",
            "20/20 [==============================] - 0s 5ms/step - loss: 0.4611 - accuracy: 0.7704 - val_loss: 0.4751 - val_accuracy: 0.8182\n",
            "Epoch 18/100\n",
            "20/20 [==============================] - 0s 9ms/step - loss: 0.4589 - accuracy: 0.7704 - val_loss: 0.4729 - val_accuracy: 0.8182\n",
            "Epoch 19/100\n",
            "20/20 [==============================] - 0s 12ms/step - loss: 0.4569 - accuracy: 0.7769 - val_loss: 0.4715 - val_accuracy: 0.8117\n",
            "Epoch 20/100\n",
            "20/20 [==============================] - 0s 10ms/step - loss: 0.4549 - accuracy: 0.7752 - val_loss: 0.4708 - val_accuracy: 0.8117\n",
            "Epoch 21/100\n",
            "20/20 [==============================] - 0s 7ms/step - loss: 0.4529 - accuracy: 0.7752 - val_loss: 0.4700 - val_accuracy: 0.8182\n",
            "Epoch 22/100\n",
            "20/20 [==============================] - 0s 5ms/step - loss: 0.4517 - accuracy: 0.7769 - val_loss: 0.4692 - val_accuracy: 0.8182\n",
            "Epoch 23/100\n",
            "20/20 [==============================] - 0s 5ms/step - loss: 0.4503 - accuracy: 0.7769 - val_loss: 0.4676 - val_accuracy: 0.8247\n",
            "Epoch 24/100\n",
            "20/20 [==============================] - 0s 5ms/step - loss: 0.4489 - accuracy: 0.7801 - val_loss: 0.4676 - val_accuracy: 0.8247\n",
            "Epoch 25/100\n",
            "20/20 [==============================] - 0s 5ms/step - loss: 0.4481 - accuracy: 0.7818 - val_loss: 0.4679 - val_accuracy: 0.8247\n",
            "Epoch 26/100\n",
            "20/20 [==============================] - 0s 4ms/step - loss: 0.4469 - accuracy: 0.7785 - val_loss: 0.4683 - val_accuracy: 0.8247\n",
            "Epoch 27/100\n",
            "20/20 [==============================] - 0s 5ms/step - loss: 0.4458 - accuracy: 0.7818 - val_loss: 0.4672 - val_accuracy: 0.8247\n",
            "Epoch 28/100\n",
            "20/20 [==============================] - 0s 4ms/step - loss: 0.4448 - accuracy: 0.7818 - val_loss: 0.4657 - val_accuracy: 0.8247\n",
            "Epoch 29/100\n",
            "20/20 [==============================] - 0s 5ms/step - loss: 0.4443 - accuracy: 0.7818 - val_loss: 0.4659 - val_accuracy: 0.8247\n",
            "Epoch 30/100\n",
            "20/20 [==============================] - 0s 4ms/step - loss: 0.4435 - accuracy: 0.7850 - val_loss: 0.4655 - val_accuracy: 0.8312\n",
            "Epoch 31/100\n",
            "20/20 [==============================] - 0s 6ms/step - loss: 0.4429 - accuracy: 0.7801 - val_loss: 0.4658 - val_accuracy: 0.8312\n",
            "Epoch 32/100\n",
            "20/20 [==============================] - 0s 4ms/step - loss: 0.4421 - accuracy: 0.7834 - val_loss: 0.4659 - val_accuracy: 0.8312\n",
            "Epoch 33/100\n",
            "20/20 [==============================] - 0s 5ms/step - loss: 0.4417 - accuracy: 0.7785 - val_loss: 0.4662 - val_accuracy: 0.8312\n",
            "Epoch 34/100\n",
            "20/20 [==============================] - 0s 4ms/step - loss: 0.4408 - accuracy: 0.7769 - val_loss: 0.4666 - val_accuracy: 0.8312\n",
            "Epoch 35/100\n",
            "20/20 [==============================] - 0s 5ms/step - loss: 0.4402 - accuracy: 0.7834 - val_loss: 0.4667 - val_accuracy: 0.8312\n",
            "Epoch 36/100\n",
            "20/20 [==============================] - 0s 9ms/step - loss: 0.4399 - accuracy: 0.7769 - val_loss: 0.4673 - val_accuracy: 0.8247\n",
            "Epoch 37/100\n",
            "20/20 [==============================] - 0s 7ms/step - loss: 0.4394 - accuracy: 0.7801 - val_loss: 0.4676 - val_accuracy: 0.8182\n",
            "Epoch 38/100\n",
            "20/20 [==============================] - 0s 9ms/step - loss: 0.4386 - accuracy: 0.7769 - val_loss: 0.4678 - val_accuracy: 0.8182\n",
            "Epoch 39/100\n",
            "20/20 [==============================] - 0s 5ms/step - loss: 0.4385 - accuracy: 0.7818 - val_loss: 0.4677 - val_accuracy: 0.8182\n",
            "Epoch 40/100\n",
            "20/20 [==============================] - 0s 5ms/step - loss: 0.4380 - accuracy: 0.7834 - val_loss: 0.4671 - val_accuracy: 0.8312\n",
            "Epoch 41/100\n",
            "20/20 [==============================] - 0s 5ms/step - loss: 0.4375 - accuracy: 0.7801 - val_loss: 0.4664 - val_accuracy: 0.8312\n",
            "Epoch 42/100\n",
            "20/20 [==============================] - 0s 5ms/step - loss: 0.4369 - accuracy: 0.7866 - val_loss: 0.4665 - val_accuracy: 0.8312\n",
            "Epoch 43/100\n",
            "20/20 [==============================] - 0s 4ms/step - loss: 0.4366 - accuracy: 0.7801 - val_loss: 0.4662 - val_accuracy: 0.8312\n",
            "Epoch 44/100\n",
            "20/20 [==============================] - 0s 4ms/step - loss: 0.4362 - accuracy: 0.7801 - val_loss: 0.4670 - val_accuracy: 0.8182\n",
            "Epoch 45/100\n",
            "20/20 [==============================] - 0s 4ms/step - loss: 0.4361 - accuracy: 0.7801 - val_loss: 0.4669 - val_accuracy: 0.8247\n",
            "Epoch 46/100\n",
            "20/20 [==============================] - 0s 3ms/step - loss: 0.4355 - accuracy: 0.7850 - val_loss: 0.4665 - val_accuracy: 0.8247\n",
            "Epoch 47/100\n",
            "20/20 [==============================] - 0s 4ms/step - loss: 0.4348 - accuracy: 0.7850 - val_loss: 0.4670 - val_accuracy: 0.8247\n",
            "Epoch 48/100\n",
            "20/20 [==============================] - 0s 3ms/step - loss: 0.4346 - accuracy: 0.7834 - val_loss: 0.4662 - val_accuracy: 0.8247\n",
            "Epoch 49/100\n",
            "20/20 [==============================] - 0s 4ms/step - loss: 0.4341 - accuracy: 0.7883 - val_loss: 0.4661 - val_accuracy: 0.8182\n",
            "Epoch 50/100\n",
            "20/20 [==============================] - 0s 3ms/step - loss: 0.4339 - accuracy: 0.7866 - val_loss: 0.4659 - val_accuracy: 0.8182\n",
            "Epoch 51/100\n",
            "20/20 [==============================] - 0s 3ms/step - loss: 0.4336 - accuracy: 0.7866 - val_loss: 0.4659 - val_accuracy: 0.8182\n",
            "Epoch 52/100\n",
            "20/20 [==============================] - 0s 4ms/step - loss: 0.4330 - accuracy: 0.7834 - val_loss: 0.4655 - val_accuracy: 0.8182\n",
            "Epoch 53/100\n",
            "20/20 [==============================] - 0s 4ms/step - loss: 0.4330 - accuracy: 0.7866 - val_loss: 0.4665 - val_accuracy: 0.8182\n",
            "Epoch 54/100\n",
            "20/20 [==============================] - 0s 4ms/step - loss: 0.4320 - accuracy: 0.7932 - val_loss: 0.4670 - val_accuracy: 0.8117\n",
            "Epoch 55/100\n",
            "20/20 [==============================] - 0s 3ms/step - loss: 0.4321 - accuracy: 0.7899 - val_loss: 0.4657 - val_accuracy: 0.8117\n",
            "Epoch 56/100\n",
            "20/20 [==============================] - 0s 3ms/step - loss: 0.4319 - accuracy: 0.7980 - val_loss: 0.4653 - val_accuracy: 0.8182\n",
            "Epoch 57/100\n",
            "20/20 [==============================] - 0s 4ms/step - loss: 0.4316 - accuracy: 0.7883 - val_loss: 0.4650 - val_accuracy: 0.8117\n",
            "Epoch 58/100\n",
            "20/20 [==============================] - 0s 3ms/step - loss: 0.4311 - accuracy: 0.7883 - val_loss: 0.4650 - val_accuracy: 0.8182\n",
            "Epoch 59/100\n",
            "20/20 [==============================] - 0s 3ms/step - loss: 0.4308 - accuracy: 0.7932 - val_loss: 0.4649 - val_accuracy: 0.8182\n",
            "Epoch 60/100\n",
            "20/20 [==============================] - 0s 4ms/step - loss: 0.4307 - accuracy: 0.7915 - val_loss: 0.4653 - val_accuracy: 0.8182\n",
            "Epoch 61/100\n",
            "20/20 [==============================] - 0s 3ms/step - loss: 0.4305 - accuracy: 0.7915 - val_loss: 0.4651 - val_accuracy: 0.8182\n",
            "Epoch 62/100\n",
            "20/20 [==============================] - 0s 4ms/step - loss: 0.4297 - accuracy: 0.7915 - val_loss: 0.4642 - val_accuracy: 0.8247\n",
            "Epoch 63/100\n",
            "20/20 [==============================] - 0s 3ms/step - loss: 0.4295 - accuracy: 0.7915 - val_loss: 0.4641 - val_accuracy: 0.8247\n",
            "Epoch 64/100\n",
            "20/20 [==============================] - 0s 4ms/step - loss: 0.4293 - accuracy: 0.7899 - val_loss: 0.4645 - val_accuracy: 0.8247\n",
            "Epoch 65/100\n",
            "20/20 [==============================] - 0s 4ms/step - loss: 0.4285 - accuracy: 0.7932 - val_loss: 0.4641 - val_accuracy: 0.8247\n",
            "Epoch 66/100\n",
            "20/20 [==============================] - 0s 4ms/step - loss: 0.4288 - accuracy: 0.7932 - val_loss: 0.4646 - val_accuracy: 0.8247\n",
            "Epoch 67/100\n",
            "20/20 [==============================] - 0s 4ms/step - loss: 0.4285 - accuracy: 0.7915 - val_loss: 0.4640 - val_accuracy: 0.8247\n",
            "Epoch 68/100\n",
            "20/20 [==============================] - 0s 4ms/step - loss: 0.4282 - accuracy: 0.7948 - val_loss: 0.4636 - val_accuracy: 0.8247\n",
            "Epoch 69/100\n",
            "20/20 [==============================] - 0s 4ms/step - loss: 0.4283 - accuracy: 0.7932 - val_loss: 0.4634 - val_accuracy: 0.8247\n",
            "Epoch 70/100\n",
            "20/20 [==============================] - 0s 4ms/step - loss: 0.4278 - accuracy: 0.7964 - val_loss: 0.4631 - val_accuracy: 0.8312\n",
            "Epoch 71/100\n",
            "20/20 [==============================] - 0s 3ms/step - loss: 0.4276 - accuracy: 0.7948 - val_loss: 0.4626 - val_accuracy: 0.8312\n",
            "Epoch 72/100\n",
            "20/20 [==============================] - 0s 3ms/step - loss: 0.4270 - accuracy: 0.7980 - val_loss: 0.4617 - val_accuracy: 0.8312\n",
            "Epoch 73/100\n",
            "20/20 [==============================] - 0s 3ms/step - loss: 0.4268 - accuracy: 0.7964 - val_loss: 0.4620 - val_accuracy: 0.8312\n",
            "Epoch 74/100\n",
            "20/20 [==============================] - 0s 4ms/step - loss: 0.4267 - accuracy: 0.7980 - val_loss: 0.4620 - val_accuracy: 0.8312\n",
            "Epoch 75/100\n",
            "20/20 [==============================] - 0s 3ms/step - loss: 0.4265 - accuracy: 0.7980 - val_loss: 0.4624 - val_accuracy: 0.8182\n",
            "Epoch 76/100\n",
            "20/20 [==============================] - 0s 4ms/step - loss: 0.4263 - accuracy: 0.7932 - val_loss: 0.4620 - val_accuracy: 0.8117\n",
            "Epoch 77/100\n",
            "20/20 [==============================] - 0s 6ms/step - loss: 0.4259 - accuracy: 0.8013 - val_loss: 0.4614 - val_accuracy: 0.8117\n",
            "Epoch 78/100\n",
            "20/20 [==============================] - 0s 7ms/step - loss: 0.4262 - accuracy: 0.8013 - val_loss: 0.4619 - val_accuracy: 0.8182\n",
            "Epoch 79/100\n",
            "20/20 [==============================] - 0s 5ms/step - loss: 0.4254 - accuracy: 0.7964 - val_loss: 0.4618 - val_accuracy: 0.8247\n",
            "Epoch 80/100\n",
            "20/20 [==============================] - 0s 5ms/step - loss: 0.4251 - accuracy: 0.7964 - val_loss: 0.4618 - val_accuracy: 0.8182\n",
            "Epoch 81/100\n",
            "20/20 [==============================] - 0s 6ms/step - loss: 0.4248 - accuracy: 0.7964 - val_loss: 0.4631 - val_accuracy: 0.8052\n",
            "Epoch 82/100\n",
            "20/20 [==============================] - 0s 6ms/step - loss: 0.4245 - accuracy: 0.8013 - val_loss: 0.4633 - val_accuracy: 0.8182\n",
            "Epoch 83/100\n",
            "20/20 [==============================] - 0s 6ms/step - loss: 0.4245 - accuracy: 0.7948 - val_loss: 0.4625 - val_accuracy: 0.8182\n",
            "Epoch 84/100\n",
            "20/20 [==============================] - 0s 5ms/step - loss: 0.4243 - accuracy: 0.7980 - val_loss: 0.4622 - val_accuracy: 0.8312\n",
            "Epoch 85/100\n",
            "20/20 [==============================] - 0s 7ms/step - loss: 0.4239 - accuracy: 0.7997 - val_loss: 0.4614 - val_accuracy: 0.8377\n",
            "Epoch 86/100\n",
            "20/20 [==============================] - 0s 6ms/step - loss: 0.4236 - accuracy: 0.7997 - val_loss: 0.4615 - val_accuracy: 0.8377\n",
            "Epoch 87/100\n",
            "20/20 [==============================] - 0s 8ms/step - loss: 0.4235 - accuracy: 0.8029 - val_loss: 0.4620 - val_accuracy: 0.8312\n",
            "Epoch 88/100\n",
            "20/20 [==============================] - 0s 7ms/step - loss: 0.4229 - accuracy: 0.8046 - val_loss: 0.4619 - val_accuracy: 0.8312\n",
            "Epoch 89/100\n",
            "20/20 [==============================] - 0s 5ms/step - loss: 0.4228 - accuracy: 0.7997 - val_loss: 0.4613 - val_accuracy: 0.8312\n",
            "Epoch 90/100\n",
            "20/20 [==============================] - 0s 7ms/step - loss: 0.4227 - accuracy: 0.8013 - val_loss: 0.4616 - val_accuracy: 0.8247\n",
            "Epoch 91/100\n",
            "20/20 [==============================] - 0s 6ms/step - loss: 0.4222 - accuracy: 0.8029 - val_loss: 0.4609 - val_accuracy: 0.8312\n",
            "Epoch 92/100\n",
            "20/20 [==============================] - 0s 5ms/step - loss: 0.4221 - accuracy: 0.7964 - val_loss: 0.4613 - val_accuracy: 0.8312\n",
            "Epoch 93/100\n",
            "20/20 [==============================] - 0s 6ms/step - loss: 0.4218 - accuracy: 0.7997 - val_loss: 0.4611 - val_accuracy: 0.8312\n",
            "Epoch 94/100\n",
            "20/20 [==============================] - 0s 7ms/step - loss: 0.4216 - accuracy: 0.7997 - val_loss: 0.4611 - val_accuracy: 0.8312\n",
            "Epoch 95/100\n",
            "20/20 [==============================] - 0s 8ms/step - loss: 0.4214 - accuracy: 0.8013 - val_loss: 0.4612 - val_accuracy: 0.8247\n",
            "Epoch 96/100\n",
            "20/20 [==============================] - 0s 7ms/step - loss: 0.4210 - accuracy: 0.8029 - val_loss: 0.4602 - val_accuracy: 0.8312\n",
            "Epoch 97/100\n",
            "20/20 [==============================] - 0s 7ms/step - loss: 0.4208 - accuracy: 0.7980 - val_loss: 0.4611 - val_accuracy: 0.8247\n",
            "Epoch 98/100\n",
            "20/20 [==============================] - 0s 5ms/step - loss: 0.4207 - accuracy: 0.7980 - val_loss: 0.4606 - val_accuracy: 0.8247\n",
            "Epoch 99/100\n",
            "20/20 [==============================] - 0s 10ms/step - loss: 0.4203 - accuracy: 0.7980 - val_loss: 0.4606 - val_accuracy: 0.8247\n",
            "Epoch 100/100\n",
            "20/20 [==============================] - 0s 5ms/step - loss: 0.4201 - accuracy: 0.7980 - val_loss: 0.4606 - val_accuracy: 0.8312\n"
          ]
        },
        {
          "output_type": "execute_result",
          "data": {
            "text/plain": [
              "<keras.src.callbacks.History at 0x7c7e1da58160>"
            ]
          },
          "metadata": {},
          "execution_count": 75
        }
      ]
    },
    {
      "cell_type": "markdown",
      "source": [
        "## Number of Nodes"
      ],
      "metadata": {
        "id": "If8LV1rkq4c9"
      }
    },
    {
      "cell_type": "code",
      "source": [
        "def build_model(hp):\n",
        "  model=Sequential()\n",
        "  units= hp.Int('units',min_value=8,max_value=128) #(Lower_limit, upper_limit, Step_size) 8->16->24....\n",
        "\n",
        "  model.add(Dense(units=units,activation='relu',input_dim=8))\n",
        "  model.add(Dense(1,activation='sigmoid'))\n",
        "\n",
        "  model.compile(loss='binary_crossentropy', optimizer='rmsprop',metrics=['accuracy'])\n",
        "\n",
        "  return model"
      ],
      "metadata": {
        "id": "jaEjynWHifSk"
      },
      "execution_count": 76,
      "outputs": []
    },
    {
      "cell_type": "code",
      "source": [
        "tuner= kt.RandomSearch(build_model,\n",
        "                       objective='val_accuracy',\n",
        "                       max_trials=5,\n",
        "                       directory=\"my_dir\",\n",
        "                       project_name=\"Number of Nodes\")"
      ],
      "metadata": {
        "colab": {
          "base_uri": "https://localhost:8080/"
        },
        "id": "q4wMibEZj5hm",
        "outputId": "69b7291a-a6f2-4f1b-e9fc-c04d37cfde58"
      },
      "execution_count": 77,
      "outputs": [
        {
          "output_type": "stream",
          "name": "stdout",
          "text": [
            "Reloading Tuner from my_dir/Number of Nodes/tuner0.json\n"
          ]
        }
      ]
    },
    {
      "cell_type": "code",
      "source": [
        "tuner.search(X_train,y_train,epochs=5,validation_data=(X_test,y_test))"
      ],
      "metadata": {
        "id": "sJDXHmjQkEgJ"
      },
      "execution_count": 78,
      "outputs": []
    },
    {
      "cell_type": "code",
      "source": [
        "tuner.results_summary()"
      ],
      "metadata": {
        "colab": {
          "base_uri": "https://localhost:8080/"
        },
        "id": "DesFWKKyk1MI",
        "outputId": "dc8e131f-8ed6-4401-8145-84f4dd554a22"
      },
      "execution_count": 79,
      "outputs": [
        {
          "output_type": "stream",
          "name": "stdout",
          "text": [
            "Results summary\n",
            "Results in my_dir/Number of Nodes\n",
            "Showing 10 best trials\n",
            "Objective(name=\"val_accuracy\", direction=\"max\")\n",
            "\n",
            "Trial 3 summary\n",
            "Hyperparameters:\n",
            "units: 72\n",
            "Score: 0.8181818127632141\n",
            "\n",
            "Trial 0 summary\n",
            "Hyperparameters:\n",
            "units: 104\n",
            "Score: 0.8051947951316833\n",
            "\n",
            "Trial 4 summary\n",
            "Hyperparameters:\n",
            "units: 88\n",
            "Score: 0.7922077775001526\n",
            "\n",
            "Trial 1 summary\n",
            "Hyperparameters:\n",
            "units: 16\n",
            "Score: 0.7467532753944397\n",
            "\n",
            "Trial 2 summary\n",
            "Hyperparameters:\n",
            "units: 24\n",
            "Score: 0.7467532753944397\n"
          ]
        }
      ]
    },
    {
      "cell_type": "code",
      "source": [
        "tuner.get_best_hyperparameters()[0].values"
      ],
      "metadata": {
        "colab": {
          "base_uri": "https://localhost:8080/"
        },
        "id": "RGxfZkLtlWZ5",
        "outputId": "5e926bcf-5d55-44ac-b235-a2b563cc9313"
      },
      "execution_count": 80,
      "outputs": [
        {
          "output_type": "execute_result",
          "data": {
            "text/plain": [
              "{'units': 72}"
            ]
          },
          "metadata": {},
          "execution_count": 80
        }
      ]
    },
    {
      "cell_type": "code",
      "source": [
        "model=tuner.get_best_models(num_models=1)[0]"
      ],
      "metadata": {
        "id": "_gbOhFiynwwG"
      },
      "execution_count": 81,
      "outputs": []
    },
    {
      "cell_type": "code",
      "source": [
        "model.fit(X_train,y_train,batch_size=32,initial_epoch=6,epochs=100,validation_data=(X_test,y_test))"
      ],
      "metadata": {
        "colab": {
          "base_uri": "https://localhost:8080/"
        },
        "id": "60AY8UrDpFLZ",
        "outputId": "f1c749c1-d0d6-43f4-9bef-54de9e78e953"
      },
      "execution_count": 82,
      "outputs": [
        {
          "output_type": "stream",
          "name": "stdout",
          "text": [
            "Epoch 7/100\n",
            "20/20 [==============================] - 1s 12ms/step - loss: 0.5136 - accuracy: 0.7573 - val_loss: 0.5032 - val_accuracy: 0.8117\n",
            "Epoch 8/100\n",
            "20/20 [==============================] - 0s 6ms/step - loss: 0.4968 - accuracy: 0.7622 - val_loss: 0.4920 - val_accuracy: 0.8052\n",
            "Epoch 9/100\n",
            "20/20 [==============================] - 0s 10ms/step - loss: 0.4847 - accuracy: 0.7687 - val_loss: 0.4863 - val_accuracy: 0.8052\n",
            "Epoch 10/100\n",
            "20/20 [==============================] - 0s 8ms/step - loss: 0.4756 - accuracy: 0.7704 - val_loss: 0.4807 - val_accuracy: 0.7987\n",
            "Epoch 11/100\n",
            "20/20 [==============================] - 0s 6ms/step - loss: 0.4688 - accuracy: 0.7801 - val_loss: 0.4762 - val_accuracy: 0.8182\n",
            "Epoch 12/100\n",
            "20/20 [==============================] - 0s 5ms/step - loss: 0.4637 - accuracy: 0.7785 - val_loss: 0.4750 - val_accuracy: 0.8052\n",
            "Epoch 13/100\n",
            "20/20 [==============================] - 0s 5ms/step - loss: 0.4599 - accuracy: 0.7801 - val_loss: 0.4740 - val_accuracy: 0.8117\n",
            "Epoch 14/100\n",
            "20/20 [==============================] - 0s 3ms/step - loss: 0.4566 - accuracy: 0.7801 - val_loss: 0.4731 - val_accuracy: 0.8117\n",
            "Epoch 15/100\n",
            "20/20 [==============================] - 0s 3ms/step - loss: 0.4540 - accuracy: 0.7834 - val_loss: 0.4710 - val_accuracy: 0.8052\n",
            "Epoch 16/100\n",
            "20/20 [==============================] - 0s 3ms/step - loss: 0.4522 - accuracy: 0.7834 - val_loss: 0.4703 - val_accuracy: 0.7987\n",
            "Epoch 17/100\n",
            "20/20 [==============================] - 0s 4ms/step - loss: 0.4505 - accuracy: 0.7801 - val_loss: 0.4700 - val_accuracy: 0.8052\n",
            "Epoch 18/100\n",
            "20/20 [==============================] - 0s 4ms/step - loss: 0.4492 - accuracy: 0.7769 - val_loss: 0.4716 - val_accuracy: 0.7987\n",
            "Epoch 19/100\n",
            "20/20 [==============================] - 0s 3ms/step - loss: 0.4481 - accuracy: 0.7801 - val_loss: 0.4721 - val_accuracy: 0.7857\n",
            "Epoch 20/100\n",
            "20/20 [==============================] - 0s 3ms/step - loss: 0.4468 - accuracy: 0.7801 - val_loss: 0.4706 - val_accuracy: 0.8052\n",
            "Epoch 21/100\n",
            "20/20 [==============================] - 0s 3ms/step - loss: 0.4456 - accuracy: 0.7785 - val_loss: 0.4709 - val_accuracy: 0.8052\n",
            "Epoch 22/100\n",
            "20/20 [==============================] - 0s 3ms/step - loss: 0.4449 - accuracy: 0.7801 - val_loss: 0.4684 - val_accuracy: 0.7987\n",
            "Epoch 23/100\n",
            "20/20 [==============================] - 0s 4ms/step - loss: 0.4435 - accuracy: 0.7818 - val_loss: 0.4683 - val_accuracy: 0.7987\n",
            "Epoch 24/100\n",
            "20/20 [==============================] - 0s 4ms/step - loss: 0.4432 - accuracy: 0.7785 - val_loss: 0.4672 - val_accuracy: 0.7987\n",
            "Epoch 25/100\n",
            "20/20 [==============================] - 0s 3ms/step - loss: 0.4420 - accuracy: 0.7834 - val_loss: 0.4665 - val_accuracy: 0.7922\n",
            "Epoch 26/100\n",
            "20/20 [==============================] - 0s 3ms/step - loss: 0.4406 - accuracy: 0.7785 - val_loss: 0.4658 - val_accuracy: 0.8052\n",
            "Epoch 27/100\n",
            "20/20 [==============================] - 0s 3ms/step - loss: 0.4409 - accuracy: 0.7801 - val_loss: 0.4658 - val_accuracy: 0.7987\n",
            "Epoch 28/100\n",
            "20/20 [==============================] - 0s 4ms/step - loss: 0.4398 - accuracy: 0.7818 - val_loss: 0.4659 - val_accuracy: 0.7987\n",
            "Epoch 29/100\n",
            "20/20 [==============================] - 0s 3ms/step - loss: 0.4389 - accuracy: 0.7801 - val_loss: 0.4667 - val_accuracy: 0.8052\n",
            "Epoch 30/100\n",
            "20/20 [==============================] - 0s 3ms/step - loss: 0.4384 - accuracy: 0.7818 - val_loss: 0.4661 - val_accuracy: 0.7987\n",
            "Epoch 31/100\n",
            "20/20 [==============================] - 0s 7ms/step - loss: 0.4373 - accuracy: 0.7818 - val_loss: 0.4664 - val_accuracy: 0.7987\n",
            "Epoch 32/100\n",
            "20/20 [==============================] - 0s 7ms/step - loss: 0.4369 - accuracy: 0.7769 - val_loss: 0.4666 - val_accuracy: 0.7987\n",
            "Epoch 33/100\n",
            "20/20 [==============================] - 0s 8ms/step - loss: 0.4362 - accuracy: 0.7866 - val_loss: 0.4691 - val_accuracy: 0.7922\n",
            "Epoch 34/100\n",
            "20/20 [==============================] - 0s 6ms/step - loss: 0.4354 - accuracy: 0.7850 - val_loss: 0.4687 - val_accuracy: 0.8052\n",
            "Epoch 35/100\n",
            "20/20 [==============================] - 0s 6ms/step - loss: 0.4351 - accuracy: 0.7834 - val_loss: 0.4682 - val_accuracy: 0.7922\n",
            "Epoch 36/100\n",
            "20/20 [==============================] - 0s 4ms/step - loss: 0.4340 - accuracy: 0.7850 - val_loss: 0.4682 - val_accuracy: 0.7857\n",
            "Epoch 37/100\n",
            "20/20 [==============================] - 0s 5ms/step - loss: 0.4341 - accuracy: 0.7785 - val_loss: 0.4669 - val_accuracy: 0.7922\n",
            "Epoch 38/100\n",
            "20/20 [==============================] - 0s 5ms/step - loss: 0.4335 - accuracy: 0.7866 - val_loss: 0.4661 - val_accuracy: 0.7987\n",
            "Epoch 39/100\n",
            "20/20 [==============================] - 0s 5ms/step - loss: 0.4329 - accuracy: 0.7850 - val_loss: 0.4645 - val_accuracy: 0.7987\n",
            "Epoch 40/100\n",
            "20/20 [==============================] - 0s 5ms/step - loss: 0.4320 - accuracy: 0.7850 - val_loss: 0.4652 - val_accuracy: 0.7987\n",
            "Epoch 41/100\n",
            "20/20 [==============================] - 0s 5ms/step - loss: 0.4317 - accuracy: 0.7866 - val_loss: 0.4648 - val_accuracy: 0.7987\n",
            "Epoch 42/100\n",
            "20/20 [==============================] - 0s 5ms/step - loss: 0.4301 - accuracy: 0.7883 - val_loss: 0.4669 - val_accuracy: 0.7922\n",
            "Epoch 43/100\n",
            "20/20 [==============================] - 0s 5ms/step - loss: 0.4302 - accuracy: 0.7899 - val_loss: 0.4662 - val_accuracy: 0.8052\n",
            "Epoch 44/100\n",
            "20/20 [==============================] - 0s 5ms/step - loss: 0.4298 - accuracy: 0.7899 - val_loss: 0.4662 - val_accuracy: 0.7987\n",
            "Epoch 45/100\n",
            "20/20 [==============================] - 0s 5ms/step - loss: 0.4289 - accuracy: 0.7899 - val_loss: 0.4656 - val_accuracy: 0.7987\n",
            "Epoch 46/100\n",
            "20/20 [==============================] - 0s 5ms/step - loss: 0.4291 - accuracy: 0.7899 - val_loss: 0.4648 - val_accuracy: 0.7987\n",
            "Epoch 47/100\n",
            "20/20 [==============================] - 0s 5ms/step - loss: 0.4281 - accuracy: 0.7866 - val_loss: 0.4661 - val_accuracy: 0.7987\n",
            "Epoch 48/100\n",
            "20/20 [==============================] - 0s 5ms/step - loss: 0.4277 - accuracy: 0.7883 - val_loss: 0.4680 - val_accuracy: 0.8052\n",
            "Epoch 49/100\n",
            "20/20 [==============================] - 0s 5ms/step - loss: 0.4266 - accuracy: 0.7883 - val_loss: 0.4688 - val_accuracy: 0.8052\n",
            "Epoch 50/100\n",
            "20/20 [==============================] - 0s 5ms/step - loss: 0.4260 - accuracy: 0.7948 - val_loss: 0.4692 - val_accuracy: 0.7922\n",
            "Epoch 51/100\n",
            "20/20 [==============================] - 0s 6ms/step - loss: 0.4257 - accuracy: 0.7915 - val_loss: 0.4680 - val_accuracy: 0.8052\n",
            "Epoch 52/100\n",
            "20/20 [==============================] - 0s 5ms/step - loss: 0.4252 - accuracy: 0.7915 - val_loss: 0.4679 - val_accuracy: 0.7987\n",
            "Epoch 53/100\n",
            "20/20 [==============================] - 0s 5ms/step - loss: 0.4249 - accuracy: 0.7915 - val_loss: 0.4689 - val_accuracy: 0.8117\n",
            "Epoch 54/100\n",
            "20/20 [==============================] - 0s 4ms/step - loss: 0.4239 - accuracy: 0.7899 - val_loss: 0.4673 - val_accuracy: 0.8117\n",
            "Epoch 55/100\n",
            "20/20 [==============================] - 0s 3ms/step - loss: 0.4233 - accuracy: 0.7915 - val_loss: 0.4684 - val_accuracy: 0.8052\n",
            "Epoch 56/100\n",
            "20/20 [==============================] - 0s 3ms/step - loss: 0.4224 - accuracy: 0.7964 - val_loss: 0.4684 - val_accuracy: 0.8052\n",
            "Epoch 57/100\n",
            "20/20 [==============================] - 0s 3ms/step - loss: 0.4225 - accuracy: 0.8013 - val_loss: 0.4662 - val_accuracy: 0.7987\n",
            "Epoch 58/100\n",
            "20/20 [==============================] - 0s 3ms/step - loss: 0.4218 - accuracy: 0.7948 - val_loss: 0.4666 - val_accuracy: 0.8052\n",
            "Epoch 59/100\n",
            "20/20 [==============================] - 0s 3ms/step - loss: 0.4218 - accuracy: 0.7997 - val_loss: 0.4638 - val_accuracy: 0.8052\n",
            "Epoch 60/100\n",
            "20/20 [==============================] - 0s 3ms/step - loss: 0.4207 - accuracy: 0.7980 - val_loss: 0.4643 - val_accuracy: 0.8052\n",
            "Epoch 61/100\n",
            "20/20 [==============================] - 0s 3ms/step - loss: 0.4203 - accuracy: 0.7948 - val_loss: 0.4637 - val_accuracy: 0.8117\n",
            "Epoch 62/100\n",
            "20/20 [==============================] - 0s 3ms/step - loss: 0.4201 - accuracy: 0.7997 - val_loss: 0.4651 - val_accuracy: 0.8117\n",
            "Epoch 63/100\n",
            "20/20 [==============================] - 0s 4ms/step - loss: 0.4191 - accuracy: 0.8013 - val_loss: 0.4633 - val_accuracy: 0.8052\n",
            "Epoch 64/100\n",
            "20/20 [==============================] - 0s 11ms/step - loss: 0.4188 - accuracy: 0.8029 - val_loss: 0.4636 - val_accuracy: 0.7987\n",
            "Epoch 65/100\n",
            "20/20 [==============================] - 0s 10ms/step - loss: 0.4184 - accuracy: 0.8013 - val_loss: 0.4651 - val_accuracy: 0.8052\n",
            "Epoch 66/100\n",
            "20/20 [==============================] - 0s 13ms/step - loss: 0.4186 - accuracy: 0.7964 - val_loss: 0.4661 - val_accuracy: 0.8117\n",
            "Epoch 67/100\n",
            "20/20 [==============================] - 0s 12ms/step - loss: 0.4177 - accuracy: 0.8062 - val_loss: 0.4660 - val_accuracy: 0.8117\n",
            "Epoch 68/100\n",
            "20/20 [==============================] - 0s 10ms/step - loss: 0.4170 - accuracy: 0.8046 - val_loss: 0.4665 - val_accuracy: 0.8182\n",
            "Epoch 69/100\n",
            "20/20 [==============================] - 0s 13ms/step - loss: 0.4164 - accuracy: 0.8062 - val_loss: 0.4655 - val_accuracy: 0.8052\n",
            "Epoch 70/100\n",
            "20/20 [==============================] - 0s 18ms/step - loss: 0.4160 - accuracy: 0.8046 - val_loss: 0.4679 - val_accuracy: 0.8182\n",
            "Epoch 71/100\n",
            "20/20 [==============================] - 0s 13ms/step - loss: 0.4158 - accuracy: 0.8062 - val_loss: 0.4675 - val_accuracy: 0.8117\n",
            "Epoch 72/100\n",
            "20/20 [==============================] - 0s 7ms/step - loss: 0.4153 - accuracy: 0.8029 - val_loss: 0.4670 - val_accuracy: 0.8117\n",
            "Epoch 73/100\n",
            "20/20 [==============================] - 0s 9ms/step - loss: 0.4156 - accuracy: 0.8094 - val_loss: 0.4654 - val_accuracy: 0.8117\n",
            "Epoch 74/100\n",
            "20/20 [==============================] - 0s 12ms/step - loss: 0.4140 - accuracy: 0.8127 - val_loss: 0.4655 - val_accuracy: 0.8117\n",
            "Epoch 75/100\n",
            "20/20 [==============================] - 0s 14ms/step - loss: 0.4143 - accuracy: 0.8094 - val_loss: 0.4667 - val_accuracy: 0.8052\n",
            "Epoch 76/100\n",
            "20/20 [==============================] - 0s 8ms/step - loss: 0.4139 - accuracy: 0.8062 - val_loss: 0.4666 - val_accuracy: 0.8117\n",
            "Epoch 77/100\n",
            "20/20 [==============================] - 0s 7ms/step - loss: 0.4127 - accuracy: 0.8046 - val_loss: 0.4641 - val_accuracy: 0.8182\n",
            "Epoch 78/100\n",
            "20/20 [==============================] - 0s 5ms/step - loss: 0.4128 - accuracy: 0.8143 - val_loss: 0.4644 - val_accuracy: 0.8182\n",
            "Epoch 79/100\n",
            "20/20 [==============================] - 0s 7ms/step - loss: 0.4124 - accuracy: 0.8111 - val_loss: 0.4643 - val_accuracy: 0.8182\n",
            "Epoch 80/100\n",
            "20/20 [==============================] - 0s 7ms/step - loss: 0.4118 - accuracy: 0.8176 - val_loss: 0.4656 - val_accuracy: 0.8117\n",
            "Epoch 81/100\n",
            "20/20 [==============================] - 0s 5ms/step - loss: 0.4111 - accuracy: 0.8143 - val_loss: 0.4644 - val_accuracy: 0.8182\n",
            "Epoch 82/100\n",
            "20/20 [==============================] - 0s 5ms/step - loss: 0.4113 - accuracy: 0.8143 - val_loss: 0.4654 - val_accuracy: 0.8117\n",
            "Epoch 83/100\n",
            "20/20 [==============================] - 0s 7ms/step - loss: 0.4109 - accuracy: 0.8143 - val_loss: 0.4632 - val_accuracy: 0.8182\n",
            "Epoch 84/100\n",
            "20/20 [==============================] - 0s 8ms/step - loss: 0.4099 - accuracy: 0.8094 - val_loss: 0.4648 - val_accuracy: 0.8182\n",
            "Epoch 85/100\n",
            "20/20 [==============================] - 0s 7ms/step - loss: 0.4101 - accuracy: 0.8111 - val_loss: 0.4658 - val_accuracy: 0.8117\n",
            "Epoch 86/100\n",
            "20/20 [==============================] - 0s 6ms/step - loss: 0.4094 - accuracy: 0.8192 - val_loss: 0.4644 - val_accuracy: 0.8247\n",
            "Epoch 87/100\n",
            "20/20 [==============================] - 0s 6ms/step - loss: 0.4092 - accuracy: 0.8176 - val_loss: 0.4657 - val_accuracy: 0.8182\n",
            "Epoch 88/100\n",
            "20/20 [==============================] - 0s 5ms/step - loss: 0.4085 - accuracy: 0.8127 - val_loss: 0.4652 - val_accuracy: 0.8247\n",
            "Epoch 89/100\n",
            "20/20 [==============================] - 0s 5ms/step - loss: 0.4082 - accuracy: 0.8176 - val_loss: 0.4666 - val_accuracy: 0.8182\n",
            "Epoch 90/100\n",
            "20/20 [==============================] - 0s 5ms/step - loss: 0.4080 - accuracy: 0.8160 - val_loss: 0.4651 - val_accuracy: 0.8182\n",
            "Epoch 91/100\n",
            "20/20 [==============================] - 0s 5ms/step - loss: 0.4076 - accuracy: 0.8127 - val_loss: 0.4655 - val_accuracy: 0.8117\n",
            "Epoch 92/100\n",
            "20/20 [==============================] - 0s 6ms/step - loss: 0.4070 - accuracy: 0.8143 - val_loss: 0.4648 - val_accuracy: 0.8117\n",
            "Epoch 93/100\n",
            "20/20 [==============================] - 0s 8ms/step - loss: 0.4061 - accuracy: 0.8192 - val_loss: 0.4655 - val_accuracy: 0.8117\n",
            "Epoch 94/100\n",
            "20/20 [==============================] - 0s 9ms/step - loss: 0.4064 - accuracy: 0.8192 - val_loss: 0.4636 - val_accuracy: 0.8182\n",
            "Epoch 95/100\n",
            "20/20 [==============================] - 0s 7ms/step - loss: 0.4061 - accuracy: 0.8192 - val_loss: 0.4642 - val_accuracy: 0.8182\n",
            "Epoch 96/100\n",
            "20/20 [==============================] - 0s 8ms/step - loss: 0.4049 - accuracy: 0.8176 - val_loss: 0.4640 - val_accuracy: 0.8182\n",
            "Epoch 97/100\n",
            "20/20 [==============================] - 0s 4ms/step - loss: 0.4042 - accuracy: 0.8176 - val_loss: 0.4653 - val_accuracy: 0.8182\n",
            "Epoch 98/100\n",
            "20/20 [==============================] - 0s 4ms/step - loss: 0.4049 - accuracy: 0.8160 - val_loss: 0.4657 - val_accuracy: 0.8182\n",
            "Epoch 99/100\n",
            "20/20 [==============================] - 0s 6ms/step - loss: 0.4043 - accuracy: 0.8192 - val_loss: 0.4663 - val_accuracy: 0.8182\n",
            "Epoch 100/100\n",
            "20/20 [==============================] - 0s 6ms/step - loss: 0.4033 - accuracy: 0.8160 - val_loss: 0.4672 - val_accuracy: 0.8182\n"
          ]
        },
        {
          "output_type": "execute_result",
          "data": {
            "text/plain": [
              "<keras.src.callbacks.History at 0x7c7e1f07b340>"
            ]
          },
          "metadata": {},
          "execution_count": 82
        }
      ]
    },
    {
      "cell_type": "markdown",
      "source": [
        "## All Parameter Tuning(Maybe chances of over-fitting)"
      ],
      "metadata": {
        "id": "dKBl_udqswOP"
      }
    },
    {
      "cell_type": "code",
      "source": [
        "def build_model(hp):\n",
        "\n",
        "  model=Sequential()\n",
        "\n",
        "  counter=0\n",
        "\n",
        "  for i in range(hp.Int('num_layers ',min_value=1,max_value=10)):\n",
        "\n",
        "    if counter==0 :\n",
        "      model.add(Dense(units=hp.Int('units '+str(i),min_value=8,max_value=128,step=8),activation=hp.Choice('activation '+str(i),['relu','tanh','sigmoid']),input_dim=8))\n",
        "      model.add(Dropout(hp.Choice('dropout'+str(i),values=[0.1,0.2,0.3,0.4,0.5,0.6,0.7,0.8,0.9])))\n",
        "    else :\n",
        "      model.add(Dense(units=hp.Int('units '+str(i),min_value=8,max_value=128,step=8),activation=hp.Choice('activation '+str(i),['relu','tanh','sigmoid'])))\n",
        "      model.add(Dropout(hp.Choice('dropout'+str(i),values=[0.1,0.2,0.3,0.4,0.5,0.6,0.7,0.8,0.9])))\n",
        "    counter+=1\n",
        "  model.add(Dense(1,activation='sigmoid'))\n",
        "\n",
        "  model.compile(loss='binary_crossentropy',optimizer=hp.Choice('optimizer ',values=['adam','sgd','rmsprop','adadelta','nadam']), metrics=['accuracy'])\n",
        "\n",
        "  return model\n"
      ],
      "metadata": {
        "id": "-0mIqJ8skrcK"
      },
      "execution_count": 83,
      "outputs": []
    },
    {
      "cell_type": "code",
      "source": [
        "tuner= kt.RandomSearch(build_model,\n",
        "                       objective='val_accuracy',\n",
        "                       max_trials=3,\n",
        "                       directory=\"mydir1\",\n",
        "                       project_name=\"Final1\")"
      ],
      "metadata": {
        "colab": {
          "base_uri": "https://localhost:8080/"
        },
        "id": "QLaJyO0jnJlU",
        "outputId": "3a1b3858-e30b-4d52-ac36-09441e55f26a"
      },
      "execution_count": 84,
      "outputs": [
        {
          "output_type": "stream",
          "name": "stdout",
          "text": [
            "Reloading Tuner from mydir1/Final1/tuner0.json\n"
          ]
        }
      ]
    },
    {
      "cell_type": "code",
      "source": [
        "tuner.search(X_train,y_train,epochs=5,validation_data=(X_test,y_test))"
      ],
      "metadata": {
        "id": "z6oCyvk0nfHT"
      },
      "execution_count": 85,
      "outputs": []
    },
    {
      "cell_type": "code",
      "source": [
        "tuner.get_best_hyperparameters()[0].values"
      ],
      "metadata": {
        "colab": {
          "base_uri": "https://localhost:8080/"
        },
        "id": "yDmu6htNo2GG",
        "outputId": "fd3e42e2-d9e1-43ae-8a14-f559676b249a"
      },
      "execution_count": 86,
      "outputs": [
        {
          "output_type": "execute_result",
          "data": {
            "text/plain": [
              "{'num_layers ': 5,\n",
              " 'units 0': 56,\n",
              " 'activation 0': 'tanh',\n",
              " 'dropout0': 0.4,\n",
              " 'optimizer ': 'nadam',\n",
              " 'units 1': 8,\n",
              " 'activation 1': 'relu',\n",
              " 'dropout1': 0.1,\n",
              " 'units 2': 8,\n",
              " 'activation 2': 'relu',\n",
              " 'dropout2': 0.1,\n",
              " 'units 3': 8,\n",
              " 'activation 3': 'relu',\n",
              " 'dropout3': 0.1,\n",
              " 'units 4': 8,\n",
              " 'activation 4': 'relu',\n",
              " 'dropout4': 0.1}"
            ]
          },
          "metadata": {},
          "execution_count": 86
        }
      ]
    },
    {
      "cell_type": "code",
      "source": [
        "model=tuner.get_best_models(num_models=1)[0]"
      ],
      "metadata": {
        "id": "UKnvR0zppuUz"
      },
      "execution_count": 87,
      "outputs": []
    },
    {
      "cell_type": "code",
      "source": [
        "early_stopping = EarlyStopping(monitor='val_loss', patience=20)\n"
      ],
      "metadata": {
        "id": "Juls7-FUx0bE"
      },
      "execution_count": 88,
      "outputs": []
    },
    {
      "cell_type": "code",
      "source": [
        "history = model.fit(X_train,y_train,initial_epoch=5,epochs=200,validation_data=(X_test,y_test),callbacks=[early_stopping])"
      ],
      "metadata": {
        "colab": {
          "base_uri": "https://localhost:8080/"
        },
        "id": "D5LLoTnhqKRO",
        "outputId": "6c484cb0-5c08-4f99-904e-a626d2761fa2"
      },
      "execution_count": 89,
      "outputs": [
        {
          "output_type": "stream",
          "name": "stdout",
          "text": [
            "Epoch 6/200\n",
            "20/20 [==============================] - 4s 31ms/step - loss: 0.5470 - accuracy: 0.7117 - val_loss: 0.5062 - val_accuracy: 0.7662\n",
            "Epoch 7/200\n",
            "20/20 [==============================] - 0s 7ms/step - loss: 0.5299 - accuracy: 0.6987 - val_loss: 0.4972 - val_accuracy: 0.7922\n",
            "Epoch 8/200\n",
            "20/20 [==============================] - 0s 9ms/step - loss: 0.5606 - accuracy: 0.7313 - val_loss: 0.5006 - val_accuracy: 0.8117\n",
            "Epoch 9/200\n",
            "20/20 [==============================] - 0s 8ms/step - loss: 0.5344 - accuracy: 0.7134 - val_loss: 0.4987 - val_accuracy: 0.7987\n",
            "Epoch 10/200\n",
            "20/20 [==============================] - 0s 4ms/step - loss: 0.5267 - accuracy: 0.7362 - val_loss: 0.4941 - val_accuracy: 0.7987\n",
            "Epoch 11/200\n",
            "20/20 [==============================] - 0s 10ms/step - loss: 0.5261 - accuracy: 0.7378 - val_loss: 0.4918 - val_accuracy: 0.8052\n",
            "Epoch 12/200\n",
            "20/20 [==============================] - 0s 6ms/step - loss: 0.5153 - accuracy: 0.7541 - val_loss: 0.4868 - val_accuracy: 0.7987\n",
            "Epoch 13/200\n",
            "20/20 [==============================] - 0s 6ms/step - loss: 0.5089 - accuracy: 0.7215 - val_loss: 0.4834 - val_accuracy: 0.7922\n",
            "Epoch 14/200\n",
            "20/20 [==============================] - 0s 13ms/step - loss: 0.5185 - accuracy: 0.7313 - val_loss: 0.4872 - val_accuracy: 0.7857\n",
            "Epoch 15/200\n",
            "20/20 [==============================] - 0s 13ms/step - loss: 0.5018 - accuracy: 0.7394 - val_loss: 0.4863 - val_accuracy: 0.7987\n",
            "Epoch 16/200\n",
            "20/20 [==============================] - 0s 9ms/step - loss: 0.4998 - accuracy: 0.7443 - val_loss: 0.4853 - val_accuracy: 0.7987\n",
            "Epoch 17/200\n",
            "20/20 [==============================] - 0s 16ms/step - loss: 0.5125 - accuracy: 0.7280 - val_loss: 0.4814 - val_accuracy: 0.8182\n",
            "Epoch 18/200\n",
            "20/20 [==============================] - 0s 8ms/step - loss: 0.5047 - accuracy: 0.7687 - val_loss: 0.4798 - val_accuracy: 0.8182\n",
            "Epoch 19/200\n",
            "20/20 [==============================] - 0s 14ms/step - loss: 0.5103 - accuracy: 0.7182 - val_loss: 0.4771 - val_accuracy: 0.8312\n",
            "Epoch 20/200\n",
            "20/20 [==============================] - 0s 12ms/step - loss: 0.4931 - accuracy: 0.7476 - val_loss: 0.4751 - val_accuracy: 0.8247\n",
            "Epoch 21/200\n",
            "20/20 [==============================] - 0s 7ms/step - loss: 0.4967 - accuracy: 0.7410 - val_loss: 0.4722 - val_accuracy: 0.8182\n",
            "Epoch 22/200\n",
            "20/20 [==============================] - 0s 14ms/step - loss: 0.5062 - accuracy: 0.7524 - val_loss: 0.4719 - val_accuracy: 0.8117\n",
            "Epoch 23/200\n",
            "20/20 [==============================] - 0s 7ms/step - loss: 0.4870 - accuracy: 0.7508 - val_loss: 0.4717 - val_accuracy: 0.8052\n",
            "Epoch 24/200\n",
            "20/20 [==============================] - 0s 6ms/step - loss: 0.4946 - accuracy: 0.7622 - val_loss: 0.4744 - val_accuracy: 0.7987\n",
            "Epoch 25/200\n",
            "20/20 [==============================] - 0s 13ms/step - loss: 0.4773 - accuracy: 0.7671 - val_loss: 0.4716 - val_accuracy: 0.7922\n",
            "Epoch 26/200\n",
            "20/20 [==============================] - 0s 6ms/step - loss: 0.4883 - accuracy: 0.7606 - val_loss: 0.4729 - val_accuracy: 0.7922\n",
            "Epoch 27/200\n",
            "20/20 [==============================] - 0s 4ms/step - loss: 0.4950 - accuracy: 0.7736 - val_loss: 0.4742 - val_accuracy: 0.7792\n",
            "Epoch 28/200\n",
            "20/20 [==============================] - 0s 5ms/step - loss: 0.4919 - accuracy: 0.7606 - val_loss: 0.4750 - val_accuracy: 0.7857\n",
            "Epoch 29/200\n",
            "20/20 [==============================] - 0s 5ms/step - loss: 0.4911 - accuracy: 0.7524 - val_loss: 0.4771 - val_accuracy: 0.7792\n",
            "Epoch 30/200\n",
            "20/20 [==============================] - 0s 6ms/step - loss: 0.4776 - accuracy: 0.7622 - val_loss: 0.4764 - val_accuracy: 0.7727\n",
            "Epoch 31/200\n",
            "20/20 [==============================] - 0s 9ms/step - loss: 0.4828 - accuracy: 0.7590 - val_loss: 0.4770 - val_accuracy: 0.7662\n",
            "Epoch 32/200\n",
            "20/20 [==============================] - 0s 5ms/step - loss: 0.4989 - accuracy: 0.7443 - val_loss: 0.4768 - val_accuracy: 0.7792\n",
            "Epoch 33/200\n",
            "20/20 [==============================] - 0s 5ms/step - loss: 0.4893 - accuracy: 0.7655 - val_loss: 0.4792 - val_accuracy: 0.7792\n",
            "Epoch 34/200\n",
            "20/20 [==============================] - 0s 12ms/step - loss: 0.4860 - accuracy: 0.7622 - val_loss: 0.4772 - val_accuracy: 0.7727\n",
            "Epoch 35/200\n",
            "20/20 [==============================] - 0s 4ms/step - loss: 0.4679 - accuracy: 0.7622 - val_loss: 0.4782 - val_accuracy: 0.7727\n",
            "Epoch 36/200\n",
            "20/20 [==============================] - 0s 4ms/step - loss: 0.4715 - accuracy: 0.7736 - val_loss: 0.4803 - val_accuracy: 0.7727\n",
            "Epoch 37/200\n",
            "20/20 [==============================] - 0s 8ms/step - loss: 0.4813 - accuracy: 0.7573 - val_loss: 0.4789 - val_accuracy: 0.7727\n",
            "Epoch 38/200\n",
            "20/20 [==============================] - 0s 8ms/step - loss: 0.4822 - accuracy: 0.7655 - val_loss: 0.4765 - val_accuracy: 0.7727\n",
            "Epoch 39/200\n",
            "20/20 [==============================] - 0s 4ms/step - loss: 0.4837 - accuracy: 0.7557 - val_loss: 0.4758 - val_accuracy: 0.7727\n",
            "Epoch 40/200\n",
            "20/20 [==============================] - 0s 4ms/step - loss: 0.4811 - accuracy: 0.7785 - val_loss: 0.4746 - val_accuracy: 0.7662\n",
            "Epoch 41/200\n",
            "20/20 [==============================] - 0s 8ms/step - loss: 0.4815 - accuracy: 0.7427 - val_loss: 0.4757 - val_accuracy: 0.7662\n",
            "Epoch 42/200\n",
            "20/20 [==============================] - 0s 7ms/step - loss: 0.4791 - accuracy: 0.7818 - val_loss: 0.4755 - val_accuracy: 0.7662\n",
            "Epoch 43/200\n",
            "20/20 [==============================] - 0s 9ms/step - loss: 0.4732 - accuracy: 0.7557 - val_loss: 0.4771 - val_accuracy: 0.7597\n",
            "Epoch 44/200\n",
            "20/20 [==============================] - 0s 4ms/step - loss: 0.4779 - accuracy: 0.7720 - val_loss: 0.4764 - val_accuracy: 0.7662\n",
            "Epoch 45/200\n",
            "20/20 [==============================] - 0s 4ms/step - loss: 0.4794 - accuracy: 0.7785 - val_loss: 0.4742 - val_accuracy: 0.7662\n"
          ]
        }
      ]
    },
    {
      "cell_type": "code",
      "source": [
        "plt.plot(history.history['loss'])\n",
        "plt.plot(history.history['val_loss'])"
      ],
      "metadata": {
        "colab": {
          "base_uri": "https://localhost:8080/",
          "height": 447
        },
        "id": "Bb9TcHlWt1Rc",
        "outputId": "82b59856-e438-47b3-957b-df63587a30b6"
      },
      "execution_count": 90,
      "outputs": [
        {
          "output_type": "execute_result",
          "data": {
            "text/plain": [
              "[<matplotlib.lines.Line2D at 0x7c7e1ea6e980>]"
            ]
          },
          "metadata": {},
          "execution_count": 90
        },
        {
          "output_type": "display_data",
          "data": {
            "text/plain": [
              "<Figure size 640x480 with 1 Axes>"
            ],
            "image/png": "[encoded data removed]"
          },
          "metadata": {}
        }
      ]
    },
    {
      "cell_type": "code",
      "source": [
        "plt.plot(history.history['accuracy'])\n",
        "plt.plot(history.history['val_accuracy'])"
      ],
      "metadata": {
        "colab": {
          "base_uri": "https://localhost:8080/",
          "height": 447
        },
        "id": "VdjzBa7JyyUU",
        "outputId": "947a0f36-02e5-45b1-86aa-7d4abaa55165"
      },
      "execution_count": 91,
      "outputs": [
        {
          "output_type": "execute_result",
          "data": {
            "text/plain": [
              "[<matplotlib.lines.Line2D at 0x7c7e1eaed840>]"
            ]
          },
          "metadata": {},
          "execution_count": 91
        },
        {
          "output_type": "display_data",
          "data": {
            "text/plain": [
              "<Figure size 640x480 with 1 Axes>"
            ],
            "image/png": "[encoded data removed]"
          },
          "metadata": {}
        }
      ]
    },
    {
      "cell_type": "code",
      "source": [],
      "metadata": {
        "id": "5aJt-ldfzBKJ"
      },
      "execution_count": 91,
      "outputs": []
    }
  ]
}